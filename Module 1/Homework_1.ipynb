{
  "nbformat": 4,
  "nbformat_minor": 0,
  "metadata": {
    "colab": {
      "provenance": [],
      "authorship_tag": "ABX9TyOD5J3TzbR/bNR+92k2XbYO",
      "include_colab_link": true
    },
    "kernelspec": {
      "name": "python3",
      "display_name": "Python 3"
    },
    "language_info": {
      "name": "python"
    }
  },
  "cells": [
    {
      "cell_type": "markdown",
      "metadata": {
        "id": "view-in-github",
        "colab_type": "text"
      },
      "source": [
        "<a href=\"https://colab.research.google.com/github/SergeiVKalinin/MSE_Fall_2025/blob/main/Module%201/Homework_1.ipynb\" target=\"_parent\"><img src=\"https://colab.research.google.com/assets/colab-badge.svg\" alt=\"Open In Colab\"/></a>"
      ]
    },
    {
      "cell_type": "markdown",
      "source": [
        "Homework 1, August 18, 2025\n",
        "\n",
        "MSE404/504, Introduction to Machine Learning for Materials Science\n",
        "\n",
        "Instructor: Sergei V. Kalinin"
      ],
      "metadata": {
        "id": "uzl-u169xiL3"
      }
    },
    {
      "cell_type": "markdown",
      "source": [
        "Reminder:\n",
        "- All the homeworks, midterms, and finals are returned as Google Colabs\n",
        "- To submit, please share with Sergei (use gmail address) and Aditya (utk address)\n",
        "- The e-mails are provided in the syllabus"
      ],
      "metadata": {
        "id": "RMYj3levx2oM"
      }
    },
    {
      "cell_type": "markdown",
      "source": [
        "1. Create new Google Colab titled \"Homework 1\"\n",
        "\n",
        "    1.a. If you are familiar with Python, submit Colab stating that you are familiar with Python\n",
        "\n",
        "    1.b. If not, go through the Chapters 1-4 of the Python workshop on Packt (reminder - use the subscription rather then buying book)\n",
        "    \n",
        "2.  Explore NotebooksLM"
      ],
      "metadata": {
        "id": "VCCyiddRyP33"
      }
    },
    {
      "cell_type": "code",
      "source": [],
      "metadata": {
        "id": "iW533vQfx1SO"
      },
      "execution_count": null,
      "outputs": []
    }
  ]
}