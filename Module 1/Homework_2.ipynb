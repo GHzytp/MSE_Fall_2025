{
  "nbformat": 4,
  "nbformat_minor": 0,
  "metadata": {
    "colab": {
      "provenance": [],
      "authorship_tag": "ABX9TyNsI60XbvPXmr9uiLPo9HM6",
      "include_colab_link": true
    },
    "kernelspec": {
      "name": "python3",
      "display_name": "Python 3"
    },
    "language_info": {
      "name": "python"
    }
  },
  "cells": [
    {
      "cell_type": "markdown",
      "metadata": {
        "id": "view-in-github",
        "colab_type": "text"
      },
      "source": [
        "<a href=\"https://colab.research.google.com/github/SergeiVKalinin/MSE_Fall_2025/blob/main/Module%201/Homework_2.ipynb\" target=\"_parent\"><img src=\"https://colab.research.google.com/assets/colab-badge.svg\" alt=\"Open In Colab\"/></a>"
      ]
    },
    {
      "cell_type": "markdown",
      "source": [
        "Homework 2, August 22, 2025\n",
        "\n",
        "MSE404/504, Introduction to Machine Learning for Materials Science\n",
        "\n",
        "Instructor: Sergei V. Kalinin"
      ],
      "metadata": {
        "id": "uzl-u169xiL3"
      }
    },
    {
      "cell_type": "markdown",
      "source": [
        "Reminder:\n",
        "- All the homeworks, midterms, and finals are returned as Google Colabs\n",
        "- To submit, please share with Sergei (use gmail address) and Aditya (utk address)\n",
        "- The e-mails are provided in the syllabus"
      ],
      "metadata": {
        "id": "RMYj3levx2oM"
      }
    },
    {
      "cell_type": "markdown",
      "source": [
        "This homework will have two parts please submit it as a single Colab to Sergei and Aditya. Please add your name and department in the first makdown field.\n",
        "\n",
        "1. Part 1. Experiment with the NotebookLM parsing of research papers.\n",
        "\n",
        "Take 3-10 papers in your field (has to be materials science, chemistry, etc), and use NotebookLM to:\n",
        "- summarize them,\n",
        "- extract the data as tables with defined schemas, import these into Colab\n",
        "- extract knowledge graphs,\n",
        "- analyze the motivation, and so on.\n",
        "Choose direction that it useful for your own research!\n",
        "\n",
        "If your have no preferences, I will add .zip to the GitHub that will contain 5 papers on high entropy alloys.\n",
        "\n",
        "For the Colab submission, just cut and paste the prompts and answers in the markdown field\n",
        "\n",
        "1. Part 2. Python.\n",
        "\n",
        "if you are familiar with Python, add statement to this effect to the same notebook\n",
        "\n",
        "If not, go through chapter 5 and 10 in Python workshop. Run the codes in the Colab. With these (and class examples), you will be able to read simple Python codes and generally understand and edit ChatGPT sugegstions."
      ],
      "metadata": {
        "id": "VCCyiddRyP33"
      }
    },
    {
      "cell_type": "code",
      "source": [],
      "metadata": {
        "id": "iW533vQfx1SO"
      },
      "execution_count": null,
      "outputs": []
    }
  ]
}