{
  "nbformat": 4,
  "nbformat_minor": 0,
  "metadata": {
    "colab": {
      "provenance": [],
      "machine_shape": "hm",
      "gpuType": "T4",
      "authorship_tag": "ABX9TyMdz8f+/omcDq4bs/mBgWZu",
      "include_colab_link": true
    },
    "kernelspec": {
      "name": "python3",
      "display_name": "Python 3"
    },
    "language_info": {
      "name": "python"
    },
    "accelerator": "GPU"
  },
  "cells": [
    {
      "cell_type": "markdown",
      "metadata": {
        "id": "view-in-github",
        "colab_type": "text"
      },
      "source": [
        "<a href=\"https://colab.research.google.com/github/SergeiVKalinin/MSE_Fall_2025/blob/main/Module%202/7_Matminer_perovskites_SISSO.ipynb\" target=\"_parent\"><img src=\"https://colab.research.google.com/assets/colab-badge.svg\" alt=\"Open In Colab\"/></a>"
      ]
    },
    {
      "cell_type": "code",
      "execution_count": null,
      "metadata": {
        "id": "eHoM6D5vb2Fg"
      },
      "outputs": [],
      "source": [
        "!pip install -qq matminer"
      ]
    },
    {
      "cell_type": "code",
      "source": [
        "from matminer.datasets import load_dataset\n",
        "\n",
        "df = load_dataset(\"castelli_perovskites\")"
      ],
      "metadata": {
        "id": "sM0NUXTeb2eB"
      },
      "execution_count": null,
      "outputs": []
    },
    {
      "cell_type": "code",
      "source": [
        "df"
      ],
      "metadata": {
        "id": "8nTDRvE0Oq7y"
      },
      "execution_count": null,
      "outputs": []
    },
    {
      "cell_type": "code",
      "source": [
        "df.describe()"
      ],
      "metadata": {
        "id": "rHlCORhLO4Tr"
      },
      "execution_count": null,
      "outputs": []
    },
    {
      "cell_type": "code",
      "source": [
        "from matminer.featurizers.conversions import StrToComposition\n",
        "df = StrToComposition().featurize_dataframe(df, \"formula\")\n",
        "df.head()"
      ],
      "metadata": {
        "id": "qMpf1McTPiPA"
      },
      "execution_count": null,
      "outputs": []
    },
    {
      "cell_type": "code",
      "source": [
        "from matminer.featurizers.composition import ElementProperty\n",
        "\n",
        "ep_feat = ElementProperty.from_preset(preset_name=\"magpie\")\n",
        "df = ep_feat.featurize_dataframe(df, col_id=\"composition\")  # input the \"composition\" column to the featurizer\n",
        "df.head()"
      ],
      "metadata": {
        "id": "JWpB6GN-Pnp4"
      },
      "execution_count": null,
      "outputs": []
    },
    {
      "cell_type": "code",
      "source": [
        "df.columns"
      ],
      "metadata": {
        "id": "D4pPlRLrQic2"
      },
      "execution_count": null,
      "outputs": []
    },
    {
      "cell_type": "code",
      "source": [
        "y = df['gap is direct'].values\n",
        "\n",
        "excluded = ['fermi level', 'fermi width', 'e_form', 'gap is direct', 'structure',\n",
        "       'mu_b', 'formula', 'vbm', 'cbm', 'gap gllbsc', 'composition']\n",
        "X = df.drop(excluded, axis=1)\n",
        "\n",
        "print(\"There are {} possible descriptors:\\n\\n{}\".format(X.shape[1], X.columns.values))"
      ],
      "metadata": {
        "collapsed": true,
        "id": "Ea5u0LpSQIm7"
      },
      "execution_count": null,
      "outputs": []
    },
    {
      "cell_type": "code",
      "source": [
        "from sklearn.model_selection import train_test_split\n",
        "from sklearn.linear_model import LogisticRegression\n",
        "from sklearn.metrics import accuracy_score, classification_report\n",
        "\n",
        "# Split the data into training and testing sets\n",
        "X_train, X_test, y_train, y_test = train_test_split(X, y, test_size=0.2, random_state=42)\n",
        "\n",
        "# Initialize and train the logistic regression model\n",
        "model = LogisticRegression(max_iter=100)\n",
        "model.fit(X_train, y_train)\n",
        "\n",
        "# Make predictions on the test set\n",
        "y_pred = model.predict(X_test)\n",
        "\n",
        "# Evaluate the model\n",
        "accuracy = accuracy_score(y_test, y_pred)\n",
        "report = classification_report(y_test, y_pred)\n",
        "\n",
        "print(f\"Accuracy: {accuracy}\")\n",
        "print(\"Classification Report:\")\n",
        "print(report)"
      ],
      "metadata": {
        "id": "5SAVhrHXRTFi"
      },
      "execution_count": null,
      "outputs": []
    },
    {
      "cell_type": "code",
      "source": [
        "from sklearn.decomposition import PCA\n",
        "import matplotlib.pyplot as plt\n",
        "\n",
        "# Perform PCA\n",
        "pca = PCA(n_components=2)\n",
        "X_pca = pca.fit_transform(X)\n",
        "\n",
        "# Plot the data\n",
        "plt.figure(figsize=(8, 6))\n",
        "plt.scatter(X_pca[y, 0], X_pca[y, 1], c='blue', label='True')\n",
        "plt.scatter(X_pca[~y, 0], X_pca[~y, 1], c='red', label='False')\n",
        "plt.xlabel('PCA 1')\n",
        "plt.ylabel('PCA 2')\n",
        "plt.title('PCA of Data with gap is direct')\n",
        "plt.legend()\n",
        "plt.show()"
      ],
      "metadata": {
        "id": "sr3m9_S2Rshu"
      },
      "execution_count": null,
      "outputs": []
    },
    {
      "cell_type": "code",
      "source": [
        "import xgboost as xgb\n",
        "import pandas as pd\n",
        "\n",
        "# Initialize and train the XGBoost classifier\n",
        "model = xgb.XGBClassifier(objective='binary:logistic', random_state=42)\n",
        "model.fit(X_train, y_train)\n",
        "\n",
        "# Get feature importances\n",
        "feature_importances = model.feature_importances_\n",
        "\n",
        "# Create a pandas Series for easier handling\n",
        "feature_importances = pd.Series(feature_importances, index=X.columns)\n",
        "\n",
        "# Sort feature importances and get the top 10\n",
        "top_10_features = feature_importances.sort_values(ascending=False).head(10)\n",
        "\n",
        "print(\"Top 10 most significant features:\")\n",
        "print(top_10_features)"
      ],
      "metadata": {
        "id": "u38qqiojR6Rb"
      },
      "execution_count": null,
      "outputs": []
    },
    {
      "cell_type": "code",
      "source": [
        "import matplotlib.pyplot as plt\n",
        "\n",
        "# Plot the top 10 feature importances as a bar graph\n",
        "plt.figure(figsize=(10, 6))\n",
        "top_10_features.plot(kind='bar')\n",
        "plt.title('Top 10 Most Significant Features (XGBoost)')\n",
        "plt.xlabel('Features')\n",
        "plt.ylabel('Importance')\n",
        "plt.xticks(rotation=45, ha='right')\n",
        "plt.tight_layout()\n",
        "plt.show()"
      ],
      "metadata": {
        "id": "GbPBYJaWSIpX"
      },
      "execution_count": null,
      "outputs": []
    },
    {
      "cell_type": "code",
      "source": [
        "from sklearn.metrics import roc_curve, roc_auc_score\n",
        "import matplotlib.pyplot as plt\n",
        "\n",
        "# Get predicted probabilities for the positive class\n",
        "y_prob = model.predict_proba(X_test)[:, 1]\n",
        "\n",
        "# Calculate ROC curve and AUC\n",
        "fpr, tpr, thresholds = roc_curve(y_test, y_prob)\n",
        "auc_score = roc_auc_score(y_test, y_prob)\n",
        "\n",
        "# Plot the ROC curve\n",
        "plt.figure(figsize=(8, 6))\n",
        "plt.plot(fpr, tpr, label=f'XGBoost (AUC = {auc_score:.2f})')\n",
        "plt.plot([0, 1], [0, 1], 'k--', label='Random Guess')\n",
        "plt.xlabel('False Positive Rate')\n",
        "plt.ylabel('True Positive Rate')\n",
        "plt.title('ROC Curve for XGBoost Classifier')\n",
        "plt.legend()\n",
        "plt.grid(True)\n",
        "plt.show()"
      ],
      "metadata": {
        "id": "tsgPmlIvZgzx"
      },
      "execution_count": null,
      "outputs": []
    },
    {
      "cell_type": "code",
      "source": [
        "!pip -qq install TorchSisso scikit-learn matplotlib pandas sympy\n",
        "\n",
        "import numpy as np\n",
        "import matplotlib.pyplot as plt\n",
        "\n",
        "from sklearn.metrics import accuracy_score\n",
        "from TorchSisso import SissoModel\n",
        "import sympy as sp"
      ],
      "metadata": {
        "id": "7s4ObM75SLOM"
      },
      "execution_count": null,
      "outputs": []
    },
    {
      "cell_type": "code",
      "source": [
        "y1 = df['gap is direct'].values\n",
        "\n",
        "included = ['MagpieData maximum NUnfilled', 'MagpieData mean NpUnfilled', 'MagpieData mean Column',\n",
        "            'MagpieData mean NUnfilled', 'MagpieData minimum Column', 'MagpieData avg_dev GSbandgap']\n",
        "X1 = df[included]\n",
        "\n",
        "print(\"There are {} possible descriptors:\\n\\n{}\".format(X1.shape[1], X1.columns.values))"
      ],
      "metadata": {
        "id": "oLo1522OSu7n"
      },
      "execution_count": null,
      "outputs": []
    },
    {
      "cell_type": "code",
      "source": [
        "y1"
      ],
      "metadata": {
        "id": "w4GjjMnyVuzP"
      },
      "execution_count": null,
      "outputs": []
    },
    {
      "cell_type": "code",
      "source": [
        "import numpy as np\n",
        "import pandas as pd\n",
        "from sklearn.model_selection import train_test_split\n",
        "from sklearn.metrics import (accuracy_score, balanced_accuracy_score,\n",
        "                             roc_auc_score, f1_score, precision_score,\n",
        "                             recall_score, confusion_matrix)\n",
        "from TorchSisso import SissoModel\n",
        "import sympy as sp\n",
        "\n",
        "# --- INPUTS ---\n",
        "# df: your DataFrame with the 6 columns below\n",
        "cols = [\n",
        "    'MagpieData maximum NUnfilled',\n",
        "    'MagpieData mean NpUnfilled',\n",
        "    'MagpieData mean Column',\n",
        "    'MagpieData mean NUnfilled',\n",
        "    'MagpieData minimum Column',\n",
        "    'MagpieData avg_dev GSbandgap'\n",
        "]\n",
        "X = df[cols].copy()\n",
        "y = np.asarray(y1, dtype=float)   # True/False -> 1.0/0.0\n",
        "\n",
        "# --- CLEANUP ---\n",
        "# keep only rows with no NaNs and valid y\n",
        "mask = (~X.isna().any(axis=1)).values & ~np.isnan(y)\n",
        "X = X.loc[mask].reset_index(drop=True)\n",
        "y = y[mask]\n",
        "\n",
        "# TorchSISSO is happier with simple column names\n",
        "safe_cols = [f'x{i+1}' for i in range(X.shape[1])]\n",
        "name_map = dict(zip(cols, safe_cols))\n",
        "X_safe = X.rename(columns=name_map)\n",
        "\n",
        "# --- SPLIT ---\n",
        "strat = y if np.unique(y).size == 2 else None\n",
        "Xtr, Xte, ytr, yte = train_test_split(\n",
        "    X_safe, y, test_size=0.25, stratify=strat, random_state=0\n",
        ")\n",
        "\n",
        "# Build training DataFrame (TorchSISSO expects first column = target y)\n",
        "train_df = pd.concat([pd.Series(ytr, name='y'), Xtr.reset_index(drop=True)], axis=1)\n",
        "test_df  = pd.concat([pd.Series(yte, name='y'), Xte.reset_index(drop=True)], axis=1)\n",
        "\n",
        "# --- TORCHSISSO ---\n",
        "# Use a \"safe\" operator set (no raw ln to avoid domain issues)\n",
        "operators = ['+','-','*','/','pow(2)','pow(3)','abs','sqrt']\n",
        "\n",
        "sm = SissoModel(\n",
        "    train_df,        # positional arg: df with y first, then features\n",
        "    operators=operators,\n",
        "    n_expansion=3,   # try 2–4\n",
        "    n_term=2,        # 1–3 terms for interpretability\n",
        "    k=50,            # SIS screening pool\n",
        "    use_gpu=False\n",
        ")\n",
        "\n",
        "out = sm.fit()\n",
        "try:\n",
        "    rmse, equation, r2, final_eq = out\n",
        "except ValueError:\n",
        "    rmse, equation, r2 = out\n",
        "    final_eq = None\n",
        "\n",
        "print(\"TorchSISSO equation:\", equation)\n",
        "print(\"Train RMSE:\", rmse, \" | Train R^2:\", r2)"
      ],
      "metadata": {
        "id": "S0sST6yMWh2k"
      },
      "execution_count": null,
      "outputs": []
    },
    {
      "cell_type": "code",
      "source": [
        "# --- MAKE THE EQUATION CALLABLE ---\n",
        "sym_map = {s: sp.symbols(s) for s in safe_cols}\n",
        "eq_str = str(equation).replace('ln(', 'log(').replace('pow(', 'Pow(').replace('^', '**')\n",
        "expr = sp.sympify(eq_str, locals={\n",
        "    **sym_map, 'sin': sp.sin, 'cos': sp.cos, 'sqrt': sp.sqrt, 'abs': sp.Abs,\n",
        "    'exp': sp.exp, 'log': sp.log, 'Pow': sp.Pow\n",
        "})\n",
        "f = sp.lambdify(tuple(sym_map.values()), expr, modules={\n",
        "    'numpy': np, 'sin': np.sin, 'cos': np.cos, 'sqrt': np.sqrt,\n",
        "    'abs': np.abs, 'exp': np.exp, 'log': np.log, 'Pow': np.power\n",
        "})"
      ],
      "metadata": {
        "id": "m7AHgrMeXI03"
      },
      "execution_count": null,
      "outputs": []
    },
    {
      "cell_type": "code",
      "source": [
        "# --- EVALUATE AS CLASSIFIER (threshold 0.5) ---\n",
        "Xte_vals = [Xte[c].values for c in safe_cols]\n",
        "yhat = np.asarray(f(*Xte_vals), dtype=float)\n",
        "ypred = (yhat >= 0.5).astype(int)\n",
        "\n",
        "print(\"Test accuracy      :\", accuracy_score(yte, ypred))\n",
        "print(\"Balanced accuracy  :\", balanced_accuracy_score(yte, ypred))\n",
        "try:\n",
        "    print(\"ROC AUC (prob-like):\", roc_auc_score(yte, yhat))\n",
        "except Exception:\n",
        "    pass\n",
        "print(\"F1                 :\", f1_score(yte, ypred))\n",
        "print(\"Precision          :\", precision_score(yte, ypred))\n",
        "print(\"Recall             :\", recall_score(yte, ypred))\n",
        "print(\"Confusion matrix:\\n\", confusion_matrix(yte, ypred))\n",
        "\n",
        "# Pretty-print equation using ORIGINAL feature names\n",
        "pretty = str(expr)\n",
        "for orig, safe in name_map.items():\n",
        "    pretty = pretty.replace(safe, f'[{orig}]')\n",
        "print(\"\\nEquation with original names:\\n\", pretty)"
      ],
      "metadata": {
        "id": "NMDqnrffXNL-"
      },
      "execution_count": null,
      "outputs": []
    },
    {
      "cell_type": "code",
      "source": [],
      "metadata": {
        "id": "72Zq_s_WdSw-"
      },
      "execution_count": null,
      "outputs": []
    }
  ]
}