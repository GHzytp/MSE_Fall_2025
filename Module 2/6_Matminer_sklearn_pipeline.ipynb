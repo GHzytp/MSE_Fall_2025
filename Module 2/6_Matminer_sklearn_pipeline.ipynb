{
  "cells": [
    {
      "cell_type": "markdown",
      "metadata": {
        "id": "view-in-github",
        "colab_type": "text"
      },
      "source": [
        "<a href=\"https://colab.research.google.com/github/SergeiVKalinin/MSE_Fall_2025/blob/main/Module%202/6_Matminer_sklearn_pipeline.ipynb\" target=\"_parent\"><img src=\"https://colab.research.google.com/assets/colab-badge.svg\" alt=\"Open In Colab\"/></a>"
      ]
    },
    {
      "cell_type": "markdown",
      "metadata": {
        "id": "AXX2zdE9ef30"
      },
      "source": [
        "# An Example of using sklearn Pipeline with matminer\n",
        "\n",
        "This goes over the steps to build a model using sklearn Pipeline and matminer. Look at the intro_predicting_bulk_modulus notebook for more details about matminer and the featurizers used here.\n",
        "\n",
        "This notebook was last updated 06/07/21 for version 0.7.0 of matminer.\n",
        "\n",
        "**Note that in order to get the in-line plotting to work, you might need to start Jupyter notebook with a higher data rate, e.g., ``jupyter notebook --NotebookApp.iopub_data_rate_limit=1.0e10``. We recommend you do this before starting.**"
      ]
    },
    {
      "cell_type": "markdown",
      "metadata": {
        "id": "eOS8bE0ref30"
      },
      "source": [
        "## Why use Pipeline?\n",
        "\n",
        "Pre-processing and featurizing materials data can be viewed as a series of transformations on the data, going from the initially loaded state to training ready. Pipelines are a tool for encapsulating this process in a way that enables easy replication/repeatability, presents a simple model of data transformation, and helps to avoid errant changes to the data. Pipelines chain together transformations into a single transformation. They can also be used to build end end-to-end methods for preprocessing/training/validating a model, by optionally putting an estimator at the end of the pipeline. See the [scikit-learn Pipeline documentation](http://scikit-learn.org/stable/modules/generated/sklearn.pipeline.Pipeline.html) for details."
      ]
    },
    {
      "cell_type": "code",
      "execution_count": null,
      "metadata": {
        "id": "YHwbrMydewkJ"
      },
      "outputs": [],
      "source": [
        "!pip install matminer\n",
        "!pip install mdf_forge\n",
        "!pip -q install mdf-toolbox mdf-forge"
      ]
    },
    {
      "cell_type": "code",
      "execution_count": null,
      "metadata": {
        "id": "iScxXGjNef31"
      },
      "outputs": [],
      "source": [
        "# Load sklearn modules\n",
        "from sklearn.pipeline import FeatureUnion, Pipeline\n",
        "from sklearn.base import TransformerMixin, BaseEstimator\n",
        "\n",
        "from sklearn.linear_model import LinearRegression\n",
        "from sklearn.ensemble import RandomForestRegressor\n",
        "from sklearn.svm import SVR, LinearSVR\n",
        "\n",
        "from sklearn.decomposition import PCA, NMF\n",
        "from sklearn.feature_selection import SelectKBest, chi2\n",
        "from sklearn.preprocessing import StandardScaler, MinMaxScaler\n",
        "\n",
        "from sklearn.metrics import mean_squared_error\n",
        "from sklearn.model_selection import RepeatedKFold, cross_val_score, cross_val_predict, train_test_split, GridSearchCV, RandomizedSearchCV\n",
        "\n",
        "import numpy as np\n",
        "from pandas import DataFrame\n",
        "from scipy.stats import randint as sp_randint\n",
        "\n",
        "# Load featurizers and conversion functions\n",
        "from matminer.featurizers.composition import ElementProperty, OxidationStates\n",
        "from matminer.featurizers.structure import DensityFeatures\n",
        "from matminer.featurizers.conversions import CompositionToOxidComposition, StrToComposition"
      ]
    },
    {
      "cell_type": "markdown",
      "metadata": {
        "id": "0_-hSTndef31"
      },
      "source": [
        "## Loading the Dataset\n",
        "Matminer comes pre-loaded with several example data sets you can use. Below, we'll load a data set of computed elastic properties of materials which is sourced from the paper:  \"Charting the complete elastic properties of inorganic crystalline compounds\", M. de Jong *et al.*, Sci. Data. 2 (2015) 150009."
      ]
    },
    {
      "cell_type": "code",
      "execution_count": null,
      "metadata": {
        "id": "bMGZUIc3ef31"
      },
      "outputs": [],
      "source": [
        "from matminer.datasets.convenience_loaders import load_elastic_tensor\n",
        "df = load_elastic_tensor() # loads dataset in a pandas DataFrame\n",
        "unwanted_columns = [\"volume\", \"nsites\", \"compliance_tensor\", \"elastic_tensor\",\n",
        "                    \"elastic_tensor_original\", \"K_Voigt\", \"G_Voigt\", \"K_Reuss\", \"G_Reuss\"]\n",
        "df = df.drop(unwanted_columns, axis=1)"
      ]
    },
    {
      "cell_type": "code",
      "execution_count": null,
      "metadata": {
        "id": "755pjMM1ef31"
      },
      "outputs": [],
      "source": [
        "# seperate out values to be estimated\n",
        "y = df['K_VRH'].values"
      ]
    },
    {
      "cell_type": "markdown",
      "metadata": {
        "id": "rJZKFHI0ef32"
      },
      "source": [
        "## Data Preprocessing\n",
        "The conversion functions in matminer need to be run before the pipeline as a data preprocessing step."
      ]
    },
    {
      "cell_type": "code",
      "execution_count": null,
      "metadata": {
        "id": "OoqNdOcwef32"
      },
      "outputs": [],
      "source": [
        "df = StrToComposition().featurize_dataframe(df, \"formula\")\n",
        "df = CompositionToOxidComposition().featurize_dataframe(df, \"composition\")"
      ]
    },
    {
      "cell_type": "markdown",
      "metadata": {
        "id": "hRxTTKZwef32"
      },
      "source": [
        "## Helper Functions\n",
        "The matminer library uses pandas DataFrames, where sklearn.pipeline mainly looks at things as numpy arrays, so helper methods are needed to seperate out columns from the DataFrame for pipeline. To be used in pipeline they need to be transformers, meaning they implement a transform method. (A fit method that does nothing is also needed)"
      ]
    },
    {
      "cell_type": "code",
      "execution_count": null,
      "metadata": {
        "id": "tET2spLmef32"
      },
      "outputs": [],
      "source": [
        "from matminer.utils.pipeline import DropExcluded, ItemSelector"
      ]
    },
    {
      "cell_type": "markdown",
      "metadata": {
        "id": "4eKMrTZVef32"
      },
      "source": [
        "## Making Feature Union Pipeline for Featurizers\n",
        "This creates a pipeline that transforms preprocessed data to featurized data usable in sklearn. It can be used to transform data on its own or as part of another pipeline. It is possible to cache values in the pipeline so that this is only done once.\n",
        "\n",
        "This Feature Union pipeline has three parts, ``drop`` which drops unwanted columns, ``density`` which adds density features, and ``oxidation`` which adds oxidation state features. These are combined by ``FeatureUnion`` to create the final dataset. The ``drop`` transform acts as an identity+filter, passing through the original data minus the unwanted columns."
      ]
    },
    {
      "cell_type": "code",
      "execution_count": null,
      "metadata": {
        "id": "5yawXrytef32"
      },
      "outputs": [],
      "source": [
        "# columns to remove before regression\n",
        "excluded = [\"G_VRH\", \"K_VRH\", \"elastic_anisotropy\", \"formula\", \"material_id\",\n",
        "            \"poisson_ratio\", \"structure\", \"composition\", \"composition_oxid\"]\n",
        "\n",
        "# featurization transformations\n",
        "featurizer = FeatureUnion(\n",
        "    transformer_list=[\n",
        "        ('drop', DropExcluded(excluded)),\n",
        "        ('density', Pipeline([\n",
        "            ('select', ItemSelector(\"structure\")),\n",
        "            ('density_feat', DensityFeatures())\n",
        "        ])),\n",
        "        ('element', Pipeline([\n",
        "            ('select', ItemSelector(\"composition\")),\n",
        "            ('oxidation_feat', ElementProperty.from_preset(preset_name=\"magpie\"))\n",
        "        ])),\n",
        "        ('oxidation', Pipeline([\n",
        "            ('select', ItemSelector(\"composition_oxid\")),\n",
        "            ('oxidation_feat', OxidationStates())\n",
        "        ])),\n",
        "    ]\n",
        ")"
      ]
    },
    {
      "cell_type": "markdown",
      "metadata": {
        "id": "NofMvd18ef32"
      },
      "source": [
        "## Making a Regression Pipeline\n",
        "This is a simple pipeline combining the featurizer transformer pipeline with a linear regression estimator."
      ]
    },
    {
      "cell_type": "code",
      "execution_count": null,
      "metadata": {
        "id": "zkHm3X-7ef32"
      },
      "outputs": [],
      "source": [
        "# make the pipeline\n",
        "pipeline = Pipeline([\n",
        "    ('featurize', featurizer),\n",
        "    ('regress', LinearRegression()),\n",
        "])\n",
        "\n",
        "pipeline.fit(df, y)\n",
        "\n",
        "# get fit statistics\n",
        "print('training R2 = ' + str(round(pipeline.score(df, y), 3)))\n",
        "print('training RMSE = %.3f' % np.sqrt(mean_squared_error(y_true=y, y_pred=pipeline.predict(df))))"
      ]
    },
    {
      "cell_type": "markdown",
      "metadata": {
        "id": "E9sIVFHKef33"
      },
      "source": [
        "## Making a Random Forest Pipeline\n",
        "This is the same, but with a random forest regression instead. The only line changed is the one defining ``regress`` in the pipeline."
      ]
    },
    {
      "cell_type": "code",
      "execution_count": null,
      "metadata": {
        "id": "tWt7LUAtef33"
      },
      "outputs": [],
      "source": [
        "# make the pipeline\n",
        "pipeline = Pipeline([\n",
        "    ('featurize', featurizer),\n",
        "    ('regress', RandomForestRegressor(n_estimators=50, random_state=1)),\n",
        "])\n",
        "\n",
        "pipeline.fit(df, y)\n",
        "\n",
        "# get fit statistics\n",
        "print('training R2 = ' + str(round(pipeline.score(df, y), 3)))\n",
        "print('training RMSE = %.3f' % np.sqrt(mean_squared_error(y_true=y, y_pred=pipeline.predict(df))))"
      ]
    },
    {
      "cell_type": "markdown",
      "metadata": {
        "id": "EAiW9Okvef33"
      },
      "source": [
        "## Cross Validation\n",
        "To run cross validation, the featurizer transformation can't be in a pipeline with the regressor, as the initial form of the data cannot be used with KFold. This is because the transformer adds and removes columns, it's more than just a simple function of the data. Instead the final featurized data can be computed beforehand, here as ``X``."
      ]
    },
    {
      "cell_type": "code",
      "execution_count": null,
      "metadata": {
        "id": "OALr-P-nef33"
      },
      "outputs": [],
      "source": [
        "X = featurizer.transform(df)"
      ]
    },
    {
      "cell_type": "markdown",
      "metadata": {
        "id": "zz2oqyDpef33"
      },
      "source": [
        "Define a KFold for cross validation. Using RepeatedKFold can reduce variance in the cross val score without increasing the number of folds, this is similar to bootstrapping, as the data is randomly subsampled multiple times by the KFold and then averaged. Using repeated folds is a good way to reduce variance if there is sufficient compute time to do so. For very computationally expensive models, such as DNNs, it is common to use a single train/validation split (not counting the excluded test data)."
      ]
    },
    {
      "cell_type": "code",
      "execution_count": null,
      "metadata": {
        "id": "cTLJ366_ef33"
      },
      "outputs": [],
      "source": [
        "crossvalidation = RepeatedKFold(n_splits=5, n_repeats=3, random_state=1)"
      ]
    },
    {
      "cell_type": "markdown",
      "metadata": {
        "id": "7qNGLjLyef33"
      },
      "source": [
        "This is the same linear regression as before, now with RepeatedKFold cross validation. This gives a better estimate of how well the model will generalize than looking at training error. Cross validation usually gives a pessimistic estimate, and in practice the best performing model will be retrained on the full set of train/val data before testing."
      ]
    },
    {
      "cell_type": "code",
      "execution_count": null,
      "metadata": {
        "id": "usBxQImJef33"
      },
      "outputs": [],
      "source": [
        "lr = LinearRegression()\n",
        "\n",
        "scores = cross_val_score(lr, X, y, scoring='neg_mean_squared_error', cv=crossvalidation, n_jobs=1)\n",
        "rmse_scores = [np.sqrt(abs(s)) for s in scores]\n",
        "r2_scores = cross_val_score(lr, X, y, scoring='r2', cv=crossvalidation, n_jobs=1)\n",
        "\n",
        "print('Cross-validation results:')\n",
        "print('Folds: %i, mean R2: %.3f' % (len(scores), np.mean(np.abs(r2_scores))))\n",
        "print('Folds: %i, mean RMSE: %.3f' % (len(scores), np.mean(np.abs(rmse_scores))))"
      ]
    },
    {
      "cell_type": "markdown",
      "metadata": {
        "id": "ygKja216ef33"
      },
      "source": [
        "This is the same with the random forest regressor."
      ]
    },
    {
      "cell_type": "code",
      "execution_count": null,
      "metadata": {
        "id": "X0lny2tief33",
        "scrolled": true
      },
      "outputs": [],
      "source": [
        "# compute cross validation scores for random forest model\n",
        "rf = RandomForestRegressor(n_estimators=50, random_state=1)\n",
        "\n",
        "r2_scores = cross_val_score(rf, X, y, scoring='r2', cv=crossvalidation, n_jobs=1)\n",
        "scores = cross_val_score(rf, X, y, scoring='neg_mean_squared_error', cv=crossvalidation, n_jobs=1)\n",
        "rmse_scores = [np.sqrt(abs(s)) for s in scores]\n",
        "\n",
        "print('Cross-validation results:')\n",
        "print('Folds: %i, mean R2: %.3f' % (len(scores), np.mean(np.abs(r2_scores))))\n",
        "print('Folds: %i, mean RMSE: %.3f' % (len(scores), np.mean(np.abs(rmse_scores))))"
      ]
    },
    {
      "cell_type": "markdown",
      "metadata": {
        "id": "ru7F1QY8ef34"
      },
      "source": [
        "## Model Selection with Grid Search\n",
        "\n",
        "A pipeline can be used with Grid Search or Random Search for model selection and hyper-parameter optimization. This can include normalization, scaling, whitening, PCA / dimensionality reduction, basis expansion, or any other preprocessing or data transformation steps.\n",
        "\n",
        "Setting up a pipeline is design pattern that gives a straight forward abd repeatable method of processing the data and training a model. This can make it easy to try many different models and perform model selection with a hyper-parameter optimization scheme like grid search.\n",
        "\n",
        "Before doing model selection, the data should be split into a training set and a holdout test set. This tries to measure the generality of the model, predicting how it may perform on real data. Without a test set there is no way to measure if the model has likely overfit the training data.\n",
        "\n",
        "Note: The best model is chosen by cross validation score, and only the final model (after being retrained on all train/val data) is evaluated on the test set. Evaluating multiple models on the test set and choosing the best of them is an almost sure way of leading to overfitting or overestimating the true performance/generality of the model, exactly what we are trying to avoid by creating a hold out test set."
      ]
    },
    {
      "cell_type": "code",
      "execution_count": null,
      "metadata": {
        "id": "MlScA7HJef34"
      },
      "outputs": [],
      "source": [
        "X_train, X_test, y_train, y_test = train_test_split(X, y, test_size=0.2, random_state=100)"
      ]
    },
    {
      "cell_type": "code",
      "execution_count": null,
      "metadata": {
        "id": "AFLKQgQqef34"
      },
      "outputs": [],
      "source": [
        "rf = RandomForestRegressor(n_estimators=50, random_state=1)\n",
        "param_grid = [\n",
        "  {'n_estimators': [10,15,20,25,30,50,100]},\n",
        "]\n",
        "gs = GridSearchCV(rf, param_grid, n_jobs=4, cv=5)\n",
        "gs.fit(X_train, y_train)\n",
        "print(gs.best_score_)\n",
        "print(gs.best_params_)\n",
        "print(gs.score(X_test, y_test))"
      ]
    },
    {
      "cell_type": "markdown",
      "metadata": {
        "id": "firvQqUMef34"
      },
      "source": [
        "## Random Search\n",
        "Random search is another possible option for hyper-parameter selection, and usually outperforms grid search both in theory and in practice (see Random Search for Hyper-Parameter Optimization by Bergstra & Bengio). This is true especially in higher dimentional hyper-parameter spaces. This shows an example of a scaling step in the pipeline, which can improve performance for some types of models."
      ]
    },
    {
      "cell_type": "code",
      "execution_count": null,
      "metadata": {
        "id": "D6WP1rBYef34"
      },
      "outputs": [],
      "source": [
        "pipe = Pipeline([\n",
        "    ('scale', StandardScaler()),\n",
        "    ('regress', RandomForestRegressor(random_state=1)),\n",
        "])\n",
        "\n",
        "param_dist = {'regress__n_estimators': sp_randint(10,150)}\n",
        "\n",
        "gs = RandomizedSearchCV(pipe, param_dist, cv=crossvalidation, n_jobs=-1)\n",
        "gs.fit(X_train, y_train)\n",
        "\n",
        "print('best crossval score ' + str(round(gs.best_score_, 3)))\n",
        "print('best params ' + str(gs.best_params_))\n",
        "\n",
        "# get fit statistics\n",
        "print('training R2 = ' + str(round(gs.score(X_train, y_train), 3)))\n",
        "print('training RMSE = %.3f' % np.sqrt(mean_squared_error(y_true=y_train, y_pred=gs.predict(X_train))))\n",
        "print('test R2 = ' + str(round(gs.score(X_test, y_test), 3)))\n",
        "print('test RMSE = %.3f' % np.sqrt(mean_squared_error(y_true=y_test, y_pred=gs.predict(X_test))))"
      ]
    }
  ],
  "metadata": {
    "colab": {
      "provenance": [],
      "include_colab_link": true
    },
    "kernelspec": {
      "display_name": "Python 3",
      "language": "python",
      "name": "python3"
    },
    "language_info": {
      "codemirror_mode": {
        "name": "ipython",
        "version": 3
      },
      "file_extension": ".py",
      "mimetype": "text/x-python",
      "name": "python",
      "nbconvert_exporter": "python",
      "pygments_lexer": "ipython3",
      "version": "3.7.3"
    }
  },
  "nbformat": 4,
  "nbformat_minor": 0
}