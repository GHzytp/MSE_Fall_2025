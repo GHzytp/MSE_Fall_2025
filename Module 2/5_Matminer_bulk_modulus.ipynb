{
  "cells": [
    {
      "cell_type": "markdown",
      "metadata": {
        "id": "view-in-github",
        "colab_type": "text"
      },
      "source": [
        "<a href=\"https://colab.research.google.com/github/SergeiVKalinin/MSE_Fall_2025/blob/main/Module%202/5_Matminer_bulk_modulus.ipynb\" target=\"_parent\"><img src=\"https://colab.research.google.com/assets/colab-badge.svg\" alt=\"Open In Colab\"/></a>"
      ]
    },
    {
      "cell_type": "markdown",
      "source": [
        "The notebook from the original matminer repository:\n",
        "\n",
        "https://github.com/hackingmaterials/matminer"
      ],
      "metadata": {
        "id": "-p13mxe4w9XX"
      }
    },
    {
      "cell_type": "markdown",
      "metadata": {
        "id": "Z5e_RrJco7_A"
      },
      "source": [
        "# Matminer introduction - Predicting bulk modulus\n",
        "\n",
        "This notebook demonstrates some of the basic features of matminer.\n",
        "\n",
        "This notebook was last updated 06/07/21 for version 0.7.0 of matminer and verison 0.0.2 of figrecipes (which you can download by cloning the [figrecipes source repo](https://github.com/hackingmaterials/figrecipes)).\n",
        "\n",
        "\n",
        "**Note that in order to get the in-line plotting to work, you might need to start Jupyter notebook with a higher data rate, e.g., ``jupyter notebook --NotebookApp.iopub_data_rate_limit=1.0e10``. We recommend you do this before starting.**\n",
        "\n",
        "\n",
        "## Overview\n",
        "In this notebook, we will:\n",
        "1. Load and examine a dataset in a pandas dataframe\n",
        "2. Add descriptors to the dataframe using matminer\n",
        "3. Train, compare, and visualize several machine learning methods with scikit-learn and matminer FigRecipes.\n",
        "\n",
        "\n",
        "\n",
        "## 1. Load and process data set\n",
        "\n",
        "Matminer comes pre-loaded with several example data sets you can use. Below, we'll load a data set of computed elastic properties of materials which is sourced from the paper:  \"Charting the complete elastic properties of inorganic crystalline compounds\", M. de Jong *et al.*, Sci. Data. 2 (2015) 150009."
      ]
    },
    {
      "cell_type": "code",
      "source": [
        "!pip install matminer\n",
        "!pip install mdf_forge\n",
        "!pip -q install mdf-toolbox mdf-forge\n",
        "!pip install figrecipes"
      ],
      "metadata": {
        "id": "BQo7SKkbpEg_"
      },
      "execution_count": null,
      "outputs": []
    },
    {
      "cell_type": "code",
      "execution_count": null,
      "metadata": {
        "id": "itClep4Uo7_B"
      },
      "outputs": [],
      "source": [
        "from matminer.datasets.convenience_loaders import load_elastic_tensor\n",
        "df = load_elastic_tensor()  # loads dataset in a pandas DataFrame object"
      ]
    },
    {
      "cell_type": "markdown",
      "metadata": {
        "id": "llzcSQ84o7_C"
      },
      "source": [
        "## 1.1 A first look at the data set\n",
        "\n",
        "The data set comes as a pandas DataFrame, which is a kind of \"spreadsheet\" object in Python. DataFrames have several useful methods you can use to explore and clean the data, some of which we'll explore below."
      ]
    },
    {
      "cell_type": "code",
      "execution_count": null,
      "metadata": {
        "id": "fvfrFV0go7_C"
      },
      "outputs": [],
      "source": [
        "df.head()"
      ]
    },
    {
      "cell_type": "markdown",
      "metadata": {
        "id": "w6YnvYQOo7_C"
      },
      "source": [
        "## 1.2 Removing unneeded columns from the data set\n",
        "\n",
        "The data set above has many columns - we won't need all this data for our modeling. We'll mainly be trying to predict ``K_VRH`` and ``G_VRH`` (the Voight-Reuss-Hill average of the bulk and shear modulus, respectively) and the ``elastic_anisotropy``. We can drop most of the other output data. We also don't need various metadata such as the ``cif`` string of the structure since the crystal structure is already embedded in the ``structure`` column."
      ]
    },
    {
      "cell_type": "code",
      "execution_count": null,
      "metadata": {
        "id": "KPZmlI9Ao7_C"
      },
      "outputs": [],
      "source": [
        "df.columns"
      ]
    },
    {
      "cell_type": "code",
      "execution_count": null,
      "metadata": {
        "id": "_4PB9xpyo7_C"
      },
      "outputs": [],
      "source": [
        "unwanted_columns = [\"volume\", \"nsites\", \"compliance_tensor\", \"elastic_tensor\",\n",
        "                    \"elastic_tensor_original\", \"K_Voigt\", \"G_Voigt\", \"K_Reuss\", \"G_Reuss\"]\n",
        "df = df.drop(unwanted_columns, axis=1)"
      ]
    },
    {
      "cell_type": "code",
      "execution_count": null,
      "metadata": {
        "id": "wXyHszOgo7_D"
      },
      "outputs": [],
      "source": [
        "df.head()"
      ]
    },
    {
      "cell_type": "markdown",
      "metadata": {
        "id": "sbpCu5Dko7_D"
      },
      "source": [
        "## 1.3 Getting a feel for the data using descriptive statistics\n",
        "\n",
        "A pandas DataFrame includes a function called ``describe()`` that helps determine statistics for the various numerical / categorical columns in the data."
      ]
    },
    {
      "cell_type": "code",
      "execution_count": null,
      "metadata": {
        "id": "ic2bO7Npo7_D"
      },
      "outputs": [],
      "source": [
        "df.describe()"
      ]
    },
    {
      "cell_type": "markdown",
      "metadata": {
        "id": "030lIQw-o7_D"
      },
      "source": [
        "Sometimes, the ``describe()`` function will reveal outliers that indicate mistakes in the data. For example, negative hence unphysical minimum bulk/shear moduli or maximum bulk/shear moduli that are too high. In this case, the data looks ok at first glance; meaing that there are no clear problems with the ranges of the various properties. Therefore, and we won't filter out any data.\n",
        "\n",
        "Note that the ``describe()`` function only describes numerical columns by default."
      ]
    },
    {
      "cell_type": "markdown",
      "metadata": {
        "id": "o9kqAPk5o7_D"
      },
      "source": [
        "# 2. Add descriptors to the data (\"featurization\")\n",
        "\n",
        "We are seeking to find relationships between the inputs (composition and crystal structure of a material) and outputs (elastic properties such as ``K_VRH``, ``G_VRH``, and ``elastic_anisotropy``). To find such relations, we need to \"featurize\" the input data such that they are numbers that meaningfully represent the underlying physical quantity. For example, one \"feature\" or \"descriptor\" of the composition of a material such as ``Nb4CoSi`` would be the standard deviation of the Pauling electronegativity of the elements in the compound (weighted by stoichiometry). Compositions with high values of this quantity would be more ionic and quantities with lower values would tend towards covalent or ionic. A descriptor of the crystal structure might be the average coordination number of sites; higher coordination numbers indicate more bonds and therefore might indicate stiffer materials. With matminer, we can start generating hundreds of possible descriptors using the descriptor library that is available. Data mining techniques can help narrow down which descriptors are the most relevant to the target problem using the available output data as a guide."
      ]
    },
    {
      "cell_type": "markdown",
      "metadata": {
        "id": "hIG_XSF6o7_D"
      },
      "source": [
        "## 2.1 Add composition-based features\n",
        "\n",
        "A major class of featurizers available in matminer uses the chemical composition to featurize the input data. Let's add some composition based features to our DataFrame.\n",
        "\n",
        "The first step is to have a column representing the chemical composition as a pymatgen Composition object. One way to do this is to use the conversions Featurizers in matminer to turn a String composition (our ``formula`` column from before) into a pymatgen Composition."
      ]
    },
    {
      "cell_type": "code",
      "execution_count": null,
      "metadata": {
        "id": "Pa_uR0lwo7_D"
      },
      "outputs": [],
      "source": [
        "from matminer.featurizers.conversions import StrToComposition\n",
        "df = StrToComposition().featurize_dataframe(df, \"formula\")\n",
        "df.head()"
      ]
    },
    {
      "cell_type": "markdown",
      "metadata": {
        "id": "WCpAnPcJo7_D"
      },
      "source": [
        "As you can see, we now have a new Composition column above. The visualization in the DataFrame is not so clear, but the column embeds both the elements *and* the amounts of each element in the composition (not shown).\n",
        "\n",
        "Next, we'll use one of the featurizers in matminer to add a suite of descriptors to the DataFrame."
      ]
    },
    {
      "cell_type": "code",
      "execution_count": null,
      "metadata": {
        "id": "ImC4x37lo7_E"
      },
      "outputs": [],
      "source": [
        "from matminer.featurizers.composition import ElementProperty\n",
        "\n",
        "ep_feat = ElementProperty.from_preset(preset_name=\"magpie\")\n",
        "df = ep_feat.featurize_dataframe(df, col_id=\"composition\")  # input the \"composition\" column to the featurizer\n",
        "df.head()"
      ]
    },
    {
      "cell_type": "markdown",
      "metadata": {
        "id": "Zvjyx86Zo7_E"
      },
      "source": [
        "As you can see, we now have many more columns in the DataFrame (a total of 141 columns - not all are shown). So we added *many* features to our data!\n",
        "\n",
        "As an aside, note that each featurizer also has a ``citations()`` function that tells you where to find out more about the Featurizer."
      ]
    },
    {
      "cell_type": "code",
      "execution_count": null,
      "metadata": {
        "id": "osiC_hL1o7_E"
      },
      "outputs": [],
      "source": [
        "ep_feat.citations()"
      ]
    },
    {
      "cell_type": "markdown",
      "metadata": {
        "id": "bwJOcozPo7_E"
      },
      "source": [
        "## 2.2 Add more composition-based features\n",
        "\n",
        "There are many more Composition based featurizers apart from ``ElementProperty`` that are available in the ``matminer.featurizers.composition``. Let's try the ``ElectronegativityDiff`` featurizer which requires knowing the oxidation state of the various elements in the Composition. This information is not there currently, but one can use the ``conversions`` package to try to guess oxidation states and then apply the ``ElectronegativityDiff`` featurizer to this column."
      ]
    },
    {
      "cell_type": "code",
      "execution_count": null,
      "metadata": {
        "id": "D2Oi82Nwo7_E"
      },
      "outputs": [],
      "source": [
        "from matminer.featurizers.conversions import CompositionToOxidComposition\n",
        "from matminer.featurizers.composition import OxidationStates\n",
        "\n",
        "df = CompositionToOxidComposition().featurize_dataframe(df, \"composition\")\n",
        "\n",
        "os_feat = OxidationStates()\n",
        "df = os_feat.featurize_dataframe(df, \"composition_oxid\")\n",
        "df.head()"
      ]
    },
    {
      "cell_type": "markdown",
      "metadata": {
        "id": "2afkgFZOo7_E"
      },
      "source": [
        "As you can see, the end of our data frame has now has some oxidation state based features!"
      ]
    },
    {
      "cell_type": "markdown",
      "metadata": {
        "id": "CxM110rio7_E"
      },
      "source": [
        "## 2.3 Add some structure based features\n",
        "\n",
        "Not all featurizers operate on compositions. Matminer can also analyze crystal structures and featurize those as well. Let's start by adding some simple density features."
      ]
    },
    {
      "cell_type": "code",
      "execution_count": null,
      "metadata": {
        "id": "BQwt-I2Ao7_E"
      },
      "outputs": [],
      "source": [
        "from matminer.featurizers.structure import DensityFeatures\n",
        "\n",
        "df_feat = DensityFeatures()\n",
        "df = df_feat.featurize_dataframe(df, \"structure\")  # input the structure column to the featurizer\n",
        "df.head()"
      ]
    },
    {
      "cell_type": "code",
      "execution_count": null,
      "metadata": {
        "id": "Xj52ymjao7_E"
      },
      "outputs": [],
      "source": [
        "df_feat.feature_labels()"
      ]
    },
    {
      "cell_type": "markdown",
      "metadata": {
        "id": "sMOBr2LVo7_E"
      },
      "source": [
        "Again, we see more features in the last few columns: ``density``, ``vpa``, and ``packing fraction``.\n",
        "\n",
        "There are many more structure based featurizers that are much more complex and detailed analysis of the crystal structure that are outside of the scope of this example. Let's move on to doing some machine learning predictions."
      ]
    },
    {
      "cell_type": "markdown",
      "metadata": {
        "id": "Z_8GLl6Ro7_F"
      },
      "source": [
        "# 3. Try some different machine learning models to relate input features to the bulk modulus\n",
        "\n",
        "We now have enough data to do some machine learning! We'll need to first determine what columns we consider input (independent variables) and what column we consider output (dependent variable).\n",
        "\n",
        "## 3.1 Define input data and output data\n",
        "\n",
        "For now, we'll use ``K_VRH`` (bulk modulus) as the output. You could retry this example with ``G_VRH``, ``elastic_anisotropy``, or ``poisson_ratio`` as the target output.\n",
        "\n",
        "For the inputs, we'll use all the features we generated. That is, everything except the output data and non-numerical columns like ``composition`` and ``structure``.\n",
        "\n"
      ]
    },
    {
      "cell_type": "code",
      "execution_count": null,
      "metadata": {
        "id": "YaLrBK5To7_F"
      },
      "outputs": [],
      "source": [
        "y = df['K_VRH'].values\n",
        "excluded = [\"G_VRH\", \"K_VRH\", \"elastic_anisotropy\", \"formula\", \"material_id\",\n",
        "            \"poisson_ratio\", \"structure\", \"composition\", \"composition_oxid\"]\n",
        "X = df.drop(excluded, axis=1)\n",
        "print(\"There are {} possible descriptors:\\n\\n{}\".format(X.shape[1], X.columns.values))"
      ]
    },
    {
      "cell_type": "markdown",
      "metadata": {
        "id": "x_QSIV6Po7_F"
      },
      "source": [
        "### 3.1 Try a linear regression model using scikit-learn\n",
        "\n",
        "The scikit-learn library makes it easy to fit and cross-validate different types of regression models. Let's start with one of the simplest - a linear regression."
      ]
    },
    {
      "cell_type": "code",
      "execution_count": null,
      "metadata": {
        "id": "-T06ak0-o7_F"
      },
      "outputs": [],
      "source": [
        "from sklearn.linear_model import LinearRegression\n",
        "from sklearn.metrics import mean_squared_error\n",
        "import numpy as np\n",
        "\n",
        "lr = LinearRegression()\n",
        "\n",
        "lr.fit(X, y)\n",
        "\n",
        "# get fit statistics\n",
        "print('training R2 = ' + str(round(lr.score(X, y), 3)))\n",
        "print('training RMSE = %.3f' % np.sqrt(mean_squared_error(y_true=y, y_pred=lr.predict(X))))"
      ]
    },
    {
      "cell_type": "code",
      "source": [
        "print(X.shape, y.shape)"
      ],
      "metadata": {
        "id": "Wr4rmmYiMFIO"
      },
      "execution_count": null,
      "outputs": []
    },
    {
      "cell_type": "markdown",
      "metadata": {
        "id": "TPsLxK76o7_F"
      },
      "source": [
        "This looks reasonable since linear regression is a simple (high bias) model. But to really validate that we are not over-fitting, we need to check the cross-validation score rather than the fitting score."
      ]
    },
    {
      "cell_type": "code",
      "execution_count": null,
      "metadata": {
        "id": "bBfbaz1Do7_F"
      },
      "outputs": [],
      "source": [
        "from sklearn.model_selection import KFold, cross_val_score\n",
        "\n",
        "# Use 10-fold cross validation (90% training, 10% test)\n",
        "crossvalidation = KFold(n_splits=10, shuffle=True, random_state=1)\n",
        "scores = cross_val_score(lr, X, y, scoring='neg_mean_squared_error', cv=crossvalidation, n_jobs=1)\n",
        "rmse_scores = [np.sqrt(abs(s)) for s in scores]\n",
        "r2_scores = cross_val_score(lr, X, y, scoring='r2', cv=crossvalidation, n_jobs=1)\n",
        "\n",
        "print('Cross-validation results:')\n",
        "print('Folds: %i, mean R2: %.3f' % (len(scores), np.mean(np.abs(r2_scores))))\n",
        "print('Folds: %i, mean RMSE: %.3f' % (len(scores), np.mean(np.abs(rmse_scores))))"
      ]
    },
    {
      "cell_type": "markdown",
      "metadata": {
        "id": "DAVyVApZo7_F"
      },
      "source": [
        "A root-mean-squared error of ~22 GPa is not bad! Let's see what this looks like on a plot.\n"
      ]
    },
    {
      "cell_type": "code",
      "source": [
        "import plotly.io as pio, plotly.graph_objects as go\n",
        "from sklearn.model_selection import cross_val_predict\n",
        "\n",
        "pio.renderers.default = \"colab\"   # use \"png\" (with kaleido) if interactive fails\n",
        "\n",
        "# CV predictions with your linear regressor\n",
        "y_pred = cross_val_predict(lr, X, y, cv=crossvalidation)\n",
        "\n",
        "fig = go.Figure()\n",
        "fig.add_scatter(x=y, y=y_pred, mode=\"markers\", name=\"CV pred\", text=df[\"formula\"])\n",
        "fig.add_scatter(x=[0, 400], y=[0, 400], mode=\"lines\", name=\"y=x\", line=dict(dash=\"dash\"))\n",
        "\n",
        "fig.update_layout(\n",
        "    xaxis_title='DFT (MP) bulk modulus (GPa)',\n",
        "    yaxis_title='Predicted bulk modulus (GPa)',\n",
        "    title='Linear regression'\n",
        ")\n",
        "\n",
        "# keep equal scales so the y=x line is meaningful\n",
        "fig.update_yaxes(scaleanchor=\"x\", scaleratio=1)\n",
        "\n",
        "fig.show()\n"
      ],
      "metadata": {
        "id": "BdZ7yk6hvU3Z"
      },
      "execution_count": null,
      "outputs": []
    },
    {
      "cell_type": "markdown",
      "metadata": {
        "id": "Irya0kVRo7_F"
      },
      "source": [
        "Not too bad! However, there are definitely some outliers (you can hover over the points with your mouse to see what they are). We will see below (with a random forest model) how the accuracy changes when we try the model on a completely new test data."
      ]
    },
    {
      "cell_type": "markdown",
      "metadata": {
        "id": "7bNrDY96o7_F"
      },
      "source": [
        "## 3.2 Try a random forest model\n",
        "\n",
        "Let's see if a more complex machine learning model does better. We can try a random forest model which is a good \"starting\" machine learning model, although one can usually do better. Let's repeat the steps for linear regression but for a random forest model."
      ]
    },
    {
      "cell_type": "code",
      "execution_count": null,
      "metadata": {
        "id": "genC1k50o7_F"
      },
      "outputs": [],
      "source": [
        "from sklearn.ensemble import RandomForestRegressor\n",
        "\n",
        "rf = RandomForestRegressor(n_estimators=50, random_state=1)\n",
        "\n",
        "rf.fit(X, y)\n",
        "print('training R2 = ' + str(round(rf.score(X, y), 3)))\n",
        "print('training RMSE = %.3f' % np.sqrt(mean_squared_error(y_true=y, y_pred=rf.predict(X))))"
      ]
    },
    {
      "cell_type": "markdown",
      "metadata": {
        "id": "-Kw7kv0_o7_G"
      },
      "source": [
        "At least on the training data, we have very low RMSE and very high R2 - this is good! But let's see if these numbers hold up on cross-validation."
      ]
    },
    {
      "cell_type": "code",
      "execution_count": null,
      "metadata": {
        "id": "5CN3xMS8o7_G"
      },
      "outputs": [],
      "source": [
        "# compute cross validation scores for random forest model\n",
        "r2_scores = cross_val_score(rf, X, y, scoring='r2', cv=crossvalidation, n_jobs=-1)\n",
        "scores = cross_val_score(rf, X, y, scoring='neg_mean_squared_error', cv=crossvalidation, n_jobs=-1)\n",
        "rmse_scores = [np.sqrt(abs(s)) for s in scores]\n",
        "\n",
        "print('Cross-validation results:')\n",
        "print('Folds: %i, mean R2: %.3f' % (len(scores), np.mean(np.abs(r2_scores))))\n",
        "print('Folds: %i, mean RMSE: %.3f' % (len(scores), np.mean(np.abs(rmse_scores))))"
      ]
    },
    {
      "cell_type": "markdown",
      "metadata": {
        "id": "SIeyzy-co7_G"
      },
      "source": [
        "Looks like upon cross-validation, we do slightly better than a linear regression but not *too* much better. Let's plot this one as well."
      ]
    },
    {
      "cell_type": "code",
      "source": [
        "import plotly.io as pio, plotly.graph_objects as go\n",
        "pio.renderers.default = \"colab\"\n",
        "\n",
        "y_pred = cross_val_predict(rf, X, y, cv=crossvalidation)\n",
        "\n",
        "fig = go.Figure()\n",
        "fig.add_scatter(x=y, y=y_pred, mode=\"markers\", name=\"CV pred\", text=df[\"formula\"])\n",
        "fig.add_scatter(x=[0,400], y=[0,400], mode=\"lines\", name=\"y=x\")\n",
        "fig.update_layout(\n",
        "    xaxis_title='DFT (MP) bulk modulus (GPa)',\n",
        "    yaxis_title='Random forest bulk modulus (GPa)',\n",
        "    title='Random forest regression'\n",
        ")\n",
        "fig.show()\n"
      ],
      "metadata": {
        "id": "alMJfvvkuGlH"
      },
      "execution_count": null,
      "outputs": []
    },
    {
      "cell_type": "markdown",
      "metadata": {
        "id": "i5V2UPGxo7_I"
      },
      "source": [
        "Visually, this looks a little better but not *that* much better. The random forest did very well in training, but is only a little better than linear regression when we plot the cross-validation error as per above.\n",
        "\n",
        "You could (optionally) visualize the *training* error by replacing the code ``cross_val_predict(rf, X, y, cv=crossvalidation)`` in the above cell with ``rf.predict(X)``. That would look a lot better, but would not be an accurate representation of your prediction error."
      ]
    },
    {
      "cell_type": "code",
      "execution_count": null,
      "metadata": {
        "id": "-xzO0jK7o7_I"
      },
      "outputs": [],
      "source": [
        "from sklearn.model_selection import train_test_split\n",
        "X['formula'] = df['formula']\n",
        "X_train, X_test, y_train, y_test = train_test_split(X, y, test_size=0.2, random_state=1)\n",
        "train_formula = X_train['formula']\n",
        "X_train = X_train.drop('formula', axis=1)\n",
        "test_formula = X_test['formula']\n",
        "X_test = X_test.drop('formula', axis=1)\n",
        "\n",
        "rf_reg = RandomForestRegressor(n_estimators=50, random_state=1)\n",
        "rf_reg.fit(X_train, y_train)\n",
        "\n",
        "# get fit statistics\n",
        "print('training R2 = ' + str(round(rf_reg.score(X_train, y_train), 3)))\n",
        "print('training RMSE = %.3f' % np.sqrt(mean_squared_error(y_true=y_train, y_pred=rf_reg.predict(X_train))))\n",
        "print('test R2 = ' + str(round(rf_reg.score(X_test, y_test), 3)))\n",
        "print('test RMSE = %.3f' % np.sqrt(mean_squared_error(y_true=y_test, y_pred=rf_reg.predict(X_test))))"
      ]
    },
    {
      "cell_type": "code",
      "source": [
        "import numpy as np\n",
        "import plotly.graph_objects as go\n",
        "import plotly.io as pio\n",
        "\n",
        "pio.renderers.default = \"colab\"   # use \"png\" (with kaleido) if interactive fails\n",
        "\n",
        "# Residuals\n",
        "res_train = y_train - rf_reg.predict(X_train)\n",
        "res_test  = y_test  - rf_reg.predict(X_test)\n",
        "\n",
        "fig = go.Figure()\n",
        "\n",
        "# Train histogram\n",
        "fig.add_histogram(\n",
        "    x=res_train,\n",
        "    histnorm=\"probability\",\n",
        "    name=\"train\",\n",
        "    opacity=0.6,\n",
        "    nbinsx=40\n",
        ")\n",
        "\n",
        "# Test histogram\n",
        "fig.add_histogram(\n",
        "    x=res_test,\n",
        "    histnorm=\"probability\",\n",
        "    name=\"test\",\n",
        "    opacity=0.6,\n",
        "    nbinsx=40\n",
        ")\n",
        "\n",
        "# Zero residual reference line\n",
        "fig.add_shape(\n",
        "    type=\"line\", x0=0, x1=0, y0=0, y1=1, xref=\"x\", yref=\"paper\",\n",
        "    line=dict(color=\"black\", dash=\"dash\")\n",
        ")\n",
        "\n",
        "fig.update_layout(\n",
        "    title=\"Random forest regression residuals\",\n",
        "    xaxis_title=\"Bulk modulus prediction residual (GPa)\",\n",
        "    yaxis_title=\"Probability\",\n",
        "    barmode=\"overlay\",\n",
        "    showlegend=True\n",
        ")\n",
        "\n",
        "fig.show()\n",
        "\n"
      ],
      "metadata": {
        "id": "3acHs4KVwiYA"
      },
      "execution_count": null,
      "outputs": []
    },
    {
      "cell_type": "markdown",
      "metadata": {
        "id": "swdf1gzMo7_I"
      },
      "source": [
        "Finally, let's see what are the most important features used by the random forest model."
      ]
    },
    {
      "cell_type": "code",
      "source": [
        "import numpy as np\n",
        "import plotly.graph_objects as go\n",
        "import plotly.io as pio\n",
        "\n",
        "pio.renderers.default = \"colab\"   # use \"png\" (with kaleido) if interactive fails\n",
        "\n",
        "# Feature importances from your trained RF\n",
        "importances = rf.feature_importances_\n",
        "\n",
        "# Get feature names robustly\n",
        "try:\n",
        "    feature_names = np.array(X.columns)\n",
        "except Exception:\n",
        "    feature_names = np.array([f\"f{i}\" for i in range(len(importances))])\n",
        "\n",
        "# Sort and take top-k\n",
        "idx = np.argsort(importances)[::-1]\n",
        "k = 10\n",
        "top_names = feature_names[idx][:k]\n",
        "top_vals  = importances[idx][:k] * 100.0  # to %\n",
        "\n",
        "# Bar chart\n",
        "fig = go.Figure(\n",
        "    go.Bar(x=top_names, y=top_vals, text=[f\"{v:.2f}%\" for v in top_vals], textposition=\"auto\")\n",
        ")\n",
        "fig.update_layout(\n",
        "    title=\"Feature importances (top 10)\",\n",
        "    xaxis_title=\"Feature\",\n",
        "    yaxis_title=\"Importance (%)\",\n",
        "    showlegend=False\n",
        ")\n",
        "fig.update_xaxes(tickangle=45)\n",
        "fig.show()\n",
        "\n",
        "\n"
      ],
      "metadata": {
        "id": "Q2HGTOfXxG39"
      },
      "execution_count": null,
      "outputs": []
    },
    {
      "cell_type": "markdown",
      "metadata": {
        "id": "bpMKWl_no7_I"
      },
      "source": [
        "Features relating to the melting point and to the volume per atom / density are the most important in the random forest model.\n",
        "\n",
        "This concludes the tutorial! You are now familiar with some of the basic features of matminer."
      ]
    }
  ],
  "metadata": {
    "kernelspec": {
      "display_name": "Python 3",
      "language": "python",
      "name": "python3"
    },
    "language_info": {
      "codemirror_mode": {
        "name": "ipython",
        "version": 3
      },
      "file_extension": ".py",
      "mimetype": "text/x-python",
      "name": "python",
      "nbconvert_exporter": "python",
      "pygments_lexer": "ipython3",
      "version": "3.7.3"
    },
    "colab": {
      "provenance": [],
      "include_colab_link": true
    }
  },
  "nbformat": 4,
  "nbformat_minor": 0
}