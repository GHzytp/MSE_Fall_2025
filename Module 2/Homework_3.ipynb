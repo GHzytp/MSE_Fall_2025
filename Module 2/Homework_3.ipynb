{
  "nbformat": 4,
  "nbformat_minor": 0,
  "metadata": {
    "colab": {
      "provenance": [],
      "toc_visible": true,
      "authorship_tag": "ABX9TyMZvGOjFBV+9WSbonVATmuj",
      "include_colab_link": true
    },
    "kernelspec": {
      "name": "python3",
      "display_name": "Python 3"
    },
    "language_info": {
      "name": "python"
    }
  },
  "cells": [
    {
      "cell_type": "markdown",
      "metadata": {
        "id": "view-in-github",
        "colab_type": "text"
      },
      "source": [
        "<a href=\"https://colab.research.google.com/github/SergeiVKalinin/MSE_Fall_2025/blob/main/Module%202/Homework_3.ipynb\" target=\"_parent\"><img src=\"https://colab.research.google.com/assets/colab-badge.svg\" alt=\"Open In Colab\"/></a>"
      ]
    },
    {
      "cell_type": "markdown",
      "source": [
        "Homework 3 for the Fall 2024 Course \"Machine Learning for Materials Science\", University of Tennessee Knoxville, Department of Materials Science and Engineering.\n",
        "\n",
        "- Instructor Sergei V. Kalinin\n",
        "\n",
        "- The atoms data set is gracefully provided by Prof. Rampi Ramprasad, Georgia Instutute of Technology"
      ],
      "metadata": {
        "id": "9HNiyL5-1s36"
      }
    },
    {
      "cell_type": "markdown",
      "source": [
        "**Please add student name and date**"
      ],
      "metadata": {
        "id": "rfiBm01UsEyt"
      }
    },
    {
      "cell_type": "markdown",
      "source": [
        "# Start with the basics!"
      ],
      "metadata": {
        "id": "4Yp_3NK2adFd"
      }
    },
    {
      "cell_type": "code",
      "source": [
        "import numpy as np\n",
        "\n",
        "import matplotlib.pyplot as plt\n",
        "from matplotlib import cm\n",
        "\n",
        "import pandas as pd\n",
        "import seaborn as sns"
      ],
      "metadata": {
        "id": "yEsDzFSX2KJc"
      },
      "execution_count": 1,
      "outputs": []
    },
    {
      "cell_type": "markdown",
      "source": [
        "## Import Atom Dataset"
      ],
      "metadata": {
        "id": "aghTd6_62qxj"
      }
    },
    {
      "cell_type": "code",
      "execution_count": 2,
      "metadata": {
        "colab": {
          "base_uri": "https://localhost:8080/"
        },
        "id": "582b645609Cp",
        "outputId": "d18f2fcb-851a-42ce-e8e6-3ed0e028dcd4"
      },
      "outputs": [
        {
          "output_type": "stream",
          "name": "stdout",
          "text": [
            "Downloading...\n",
            "From: https://drive.google.com/uc?id=1SygYRQ4Iom2ZP7dANIyay7NIoCra2bE1\n",
            "To: /content/atoms.csv\n",
            "\r  0% 0.00/5.89k [00:00<?, ?B/s]\r100% 5.89k/5.89k [00:00<00:00, 16.5MB/s]\n"
          ]
        }
      ],
      "source": [
        "!gdown https://drive.google.com/uc?id=1SygYRQ4Iom2ZP7dANIyay7NIoCra2bE1"
      ]
    },
    {
      "cell_type": "code",
      "source": [
        "df = pd.read_csv('/content/atoms.csv')\n",
        "df.head()"
      ],
      "metadata": {
        "colab": {
          "base_uri": "https://localhost:8080/",
          "height": 226
        },
        "id": "pbRJQR1v2KSS",
        "outputId": "beb780fa-f625-4051-e9df-0ac11fdeb284"
      },
      "execution_count": 3,
      "outputs": [
        {
          "output_type": "execute_result",
          "data": {
            "text/plain": [
              "  Symbol  Atomic_radius  Covalent_radius  Density  Pauling_Electronegativity  \\\n",
              "0      H             53               31   0.0708                       2.20   \n",
              "1     He             31               28   0.1470                       0.00   \n",
              "2     Li            167              128   0.5340                       0.98   \n",
              "3     Be            112               96   1.8480                       1.57   \n",
              "4      B             87               84   2.3400                       2.04   \n",
              "\n",
              "   Electron_affinity  First_Ionisation_Energy  Heat_Evaporation  \\\n",
              "0             72.769                   1311.3             0.904   \n",
              "1            -50.000                   2361.3             0.080   \n",
              "2             59.632                    519.9           148.000   \n",
              "3            -50.000                    898.8           309.000   \n",
              "4             26.989                    800.2           504.500   \n",
              "\n",
              "   Melting_Point  Boiling_Point  Specific_Heat  Specific_Volume  \\\n",
              "0          14.01         20.280         14.267             14.1   \n",
              "1           0.95          4.216          5.188             31.8   \n",
              "2         553.69       1118.150          3.489             13.1   \n",
              "3        1551.00       3243.000          1.824              5.0   \n",
              "4        2573.00       3931.000          1.025              4.6   \n",
              "\n",
              "   Thermal_Conductivity  Max_Oxidation_States  \n",
              "0                0.1815                     1  \n",
              "1                0.1520                     2  \n",
              "2               84.8000                     1  \n",
              "3              201.0000                     2  \n",
              "4               27.4000                     3  "
            ],
            "text/html": [
              "\n",
              "  <div id=\"df-e86e2143-f346-4470-8404-07effb7df601\" class=\"colab-df-container\">\n",
              "    <div>\n",
              "<style scoped>\n",
              "    .dataframe tbody tr th:only-of-type {\n",
              "        vertical-align: middle;\n",
              "    }\n",
              "\n",
              "    .dataframe tbody tr th {\n",
              "        vertical-align: top;\n",
              "    }\n",
              "\n",
              "    .dataframe thead th {\n",
              "        text-align: right;\n",
              "    }\n",
              "</style>\n",
              "<table border=\"1\" class=\"dataframe\">\n",
              "  <thead>\n",
              "    <tr style=\"text-align: right;\">\n",
              "      <th></th>\n",
              "      <th>Symbol</th>\n",
              "      <th>Atomic_radius</th>\n",
              "      <th>Covalent_radius</th>\n",
              "      <th>Density</th>\n",
              "      <th>Pauling_Electronegativity</th>\n",
              "      <th>Electron_affinity</th>\n",
              "      <th>First_Ionisation_Energy</th>\n",
              "      <th>Heat_Evaporation</th>\n",
              "      <th>Melting_Point</th>\n",
              "      <th>Boiling_Point</th>\n",
              "      <th>Specific_Heat</th>\n",
              "      <th>Specific_Volume</th>\n",
              "      <th>Thermal_Conductivity</th>\n",
              "      <th>Max_Oxidation_States</th>\n",
              "    </tr>\n",
              "  </thead>\n",
              "  <tbody>\n",
              "    <tr>\n",
              "      <th>0</th>\n",
              "      <td>H</td>\n",
              "      <td>53</td>\n",
              "      <td>31</td>\n",
              "      <td>0.0708</td>\n",
              "      <td>2.20</td>\n",
              "      <td>72.769</td>\n",
              "      <td>1311.3</td>\n",
              "      <td>0.904</td>\n",
              "      <td>14.01</td>\n",
              "      <td>20.280</td>\n",
              "      <td>14.267</td>\n",
              "      <td>14.1</td>\n",
              "      <td>0.1815</td>\n",
              "      <td>1</td>\n",
              "    </tr>\n",
              "    <tr>\n",
              "      <th>1</th>\n",
              "      <td>He</td>\n",
              "      <td>31</td>\n",
              "      <td>28</td>\n",
              "      <td>0.1470</td>\n",
              "      <td>0.00</td>\n",
              "      <td>-50.000</td>\n",
              "      <td>2361.3</td>\n",
              "      <td>0.080</td>\n",
              "      <td>0.95</td>\n",
              "      <td>4.216</td>\n",
              "      <td>5.188</td>\n",
              "      <td>31.8</td>\n",
              "      <td>0.1520</td>\n",
              "      <td>2</td>\n",
              "    </tr>\n",
              "    <tr>\n",
              "      <th>2</th>\n",
              "      <td>Li</td>\n",
              "      <td>167</td>\n",
              "      <td>128</td>\n",
              "      <td>0.5340</td>\n",
              "      <td>0.98</td>\n",
              "      <td>59.632</td>\n",
              "      <td>519.9</td>\n",
              "      <td>148.000</td>\n",
              "      <td>553.69</td>\n",
              "      <td>1118.150</td>\n",
              "      <td>3.489</td>\n",
              "      <td>13.1</td>\n",
              "      <td>84.8000</td>\n",
              "      <td>1</td>\n",
              "    </tr>\n",
              "    <tr>\n",
              "      <th>3</th>\n",
              "      <td>Be</td>\n",
              "      <td>112</td>\n",
              "      <td>96</td>\n",
              "      <td>1.8480</td>\n",
              "      <td>1.57</td>\n",
              "      <td>-50.000</td>\n",
              "      <td>898.8</td>\n",
              "      <td>309.000</td>\n",
              "      <td>1551.00</td>\n",
              "      <td>3243.000</td>\n",
              "      <td>1.824</td>\n",
              "      <td>5.0</td>\n",
              "      <td>201.0000</td>\n",
              "      <td>2</td>\n",
              "    </tr>\n",
              "    <tr>\n",
              "      <th>4</th>\n",
              "      <td>B</td>\n",
              "      <td>87</td>\n",
              "      <td>84</td>\n",
              "      <td>2.3400</td>\n",
              "      <td>2.04</td>\n",
              "      <td>26.989</td>\n",
              "      <td>800.2</td>\n",
              "      <td>504.500</td>\n",
              "      <td>2573.00</td>\n",
              "      <td>3931.000</td>\n",
              "      <td>1.025</td>\n",
              "      <td>4.6</td>\n",
              "      <td>27.4000</td>\n",
              "      <td>3</td>\n",
              "    </tr>\n",
              "  </tbody>\n",
              "</table>\n",
              "</div>\n",
              "    <div class=\"colab-df-buttons\">\n",
              "\n",
              "  <div class=\"colab-df-container\">\n",
              "    <button class=\"colab-df-convert\" onclick=\"convertToInteractive('df-e86e2143-f346-4470-8404-07effb7df601')\"\n",
              "            title=\"Convert this dataframe to an interactive table.\"\n",
              "            style=\"display:none;\">\n",
              "\n",
              "  <svg xmlns=\"http://www.w3.org/2000/svg\" height=\"24px\" viewBox=\"0 -960 960 960\">\n",
              "    <path d=\"M120-120v-720h720v720H120Zm60-500h600v-160H180v160Zm220 220h160v-160H400v160Zm0 220h160v-160H400v160ZM180-400h160v-160H180v160Zm440 0h160v-160H620v160ZM180-180h160v-160H180v160Zm440 0h160v-160H620v160Z\"/>\n",
              "  </svg>\n",
              "    </button>\n",
              "\n",
              "  <style>\n",
              "    .colab-df-container {\n",
              "      display:flex;\n",
              "      gap: 12px;\n",
              "    }\n",
              "\n",
              "    .colab-df-convert {\n",
              "      background-color: #E8F0FE;\n",
              "      border: none;\n",
              "      border-radius: 50%;\n",
              "      cursor: pointer;\n",
              "      display: none;\n",
              "      fill: #1967D2;\n",
              "      height: 32px;\n",
              "      padding: 0 0 0 0;\n",
              "      width: 32px;\n",
              "    }\n",
              "\n",
              "    .colab-df-convert:hover {\n",
              "      background-color: #E2EBFA;\n",
              "      box-shadow: 0px 1px 2px rgba(60, 64, 67, 0.3), 0px 1px 3px 1px rgba(60, 64, 67, 0.15);\n",
              "      fill: #174EA6;\n",
              "    }\n",
              "\n",
              "    .colab-df-buttons div {\n",
              "      margin-bottom: 4px;\n",
              "    }\n",
              "\n",
              "    [theme=dark] .colab-df-convert {\n",
              "      background-color: #3B4455;\n",
              "      fill: #D2E3FC;\n",
              "    }\n",
              "\n",
              "    [theme=dark] .colab-df-convert:hover {\n",
              "      background-color: #434B5C;\n",
              "      box-shadow: 0px 1px 3px 1px rgba(0, 0, 0, 0.15);\n",
              "      filter: drop-shadow(0px 1px 2px rgba(0, 0, 0, 0.3));\n",
              "      fill: #FFFFFF;\n",
              "    }\n",
              "  </style>\n",
              "\n",
              "    <script>\n",
              "      const buttonEl =\n",
              "        document.querySelector('#df-e86e2143-f346-4470-8404-07effb7df601 button.colab-df-convert');\n",
              "      buttonEl.style.display =\n",
              "        google.colab.kernel.accessAllowed ? 'block' : 'none';\n",
              "\n",
              "      async function convertToInteractive(key) {\n",
              "        const element = document.querySelector('#df-e86e2143-f346-4470-8404-07effb7df601');\n",
              "        const dataTable =\n",
              "          await google.colab.kernel.invokeFunction('convertToInteractive',\n",
              "                                                    [key], {});\n",
              "        if (!dataTable) return;\n",
              "\n",
              "        const docLinkHtml = 'Like what you see? Visit the ' +\n",
              "          '<a target=\"_blank\" href=https://colab.research.google.com/notebooks/data_table.ipynb>data table notebook</a>'\n",
              "          + ' to learn more about interactive tables.';\n",
              "        element.innerHTML = '';\n",
              "        dataTable['output_type'] = 'display_data';\n",
              "        await google.colab.output.renderOutput(dataTable, element);\n",
              "        const docLink = document.createElement('div');\n",
              "        docLink.innerHTML = docLinkHtml;\n",
              "        element.appendChild(docLink);\n",
              "      }\n",
              "    </script>\n",
              "  </div>\n",
              "\n",
              "\n",
              "    <div id=\"df-592a6439-bbf7-4c6d-93e8-ee0fcba9a258\">\n",
              "      <button class=\"colab-df-quickchart\" onclick=\"quickchart('df-592a6439-bbf7-4c6d-93e8-ee0fcba9a258')\"\n",
              "                title=\"Suggest charts\"\n",
              "                style=\"display:none;\">\n",
              "\n",
              "<svg xmlns=\"http://www.w3.org/2000/svg\" height=\"24px\"viewBox=\"0 0 24 24\"\n",
              "     width=\"24px\">\n",
              "    <g>\n",
              "        <path d=\"M19 3H5c-1.1 0-2 .9-2 2v14c0 1.1.9 2 2 2h14c1.1 0 2-.9 2-2V5c0-1.1-.9-2-2-2zM9 17H7v-7h2v7zm4 0h-2V7h2v10zm4 0h-2v-4h2v4z\"/>\n",
              "    </g>\n",
              "</svg>\n",
              "      </button>\n",
              "\n",
              "<style>\n",
              "  .colab-df-quickchart {\n",
              "      --bg-color: #E8F0FE;\n",
              "      --fill-color: #1967D2;\n",
              "      --hover-bg-color: #E2EBFA;\n",
              "      --hover-fill-color: #174EA6;\n",
              "      --disabled-fill-color: #AAA;\n",
              "      --disabled-bg-color: #DDD;\n",
              "  }\n",
              "\n",
              "  [theme=dark] .colab-df-quickchart {\n",
              "      --bg-color: #3B4455;\n",
              "      --fill-color: #D2E3FC;\n",
              "      --hover-bg-color: #434B5C;\n",
              "      --hover-fill-color: #FFFFFF;\n",
              "      --disabled-bg-color: #3B4455;\n",
              "      --disabled-fill-color: #666;\n",
              "  }\n",
              "\n",
              "  .colab-df-quickchart {\n",
              "    background-color: var(--bg-color);\n",
              "    border: none;\n",
              "    border-radius: 50%;\n",
              "    cursor: pointer;\n",
              "    display: none;\n",
              "    fill: var(--fill-color);\n",
              "    height: 32px;\n",
              "    padding: 0;\n",
              "    width: 32px;\n",
              "  }\n",
              "\n",
              "  .colab-df-quickchart:hover {\n",
              "    background-color: var(--hover-bg-color);\n",
              "    box-shadow: 0 1px 2px rgba(60, 64, 67, 0.3), 0 1px 3px 1px rgba(60, 64, 67, 0.15);\n",
              "    fill: var(--button-hover-fill-color);\n",
              "  }\n",
              "\n",
              "  .colab-df-quickchart-complete:disabled,\n",
              "  .colab-df-quickchart-complete:disabled:hover {\n",
              "    background-color: var(--disabled-bg-color);\n",
              "    fill: var(--disabled-fill-color);\n",
              "    box-shadow: none;\n",
              "  }\n",
              "\n",
              "  .colab-df-spinner {\n",
              "    border: 2px solid var(--fill-color);\n",
              "    border-color: transparent;\n",
              "    border-bottom-color: var(--fill-color);\n",
              "    animation:\n",
              "      spin 1s steps(1) infinite;\n",
              "  }\n",
              "\n",
              "  @keyframes spin {\n",
              "    0% {\n",
              "      border-color: transparent;\n",
              "      border-bottom-color: var(--fill-color);\n",
              "      border-left-color: var(--fill-color);\n",
              "    }\n",
              "    20% {\n",
              "      border-color: transparent;\n",
              "      border-left-color: var(--fill-color);\n",
              "      border-top-color: var(--fill-color);\n",
              "    }\n",
              "    30% {\n",
              "      border-color: transparent;\n",
              "      border-left-color: var(--fill-color);\n",
              "      border-top-color: var(--fill-color);\n",
              "      border-right-color: var(--fill-color);\n",
              "    }\n",
              "    40% {\n",
              "      border-color: transparent;\n",
              "      border-right-color: var(--fill-color);\n",
              "      border-top-color: var(--fill-color);\n",
              "    }\n",
              "    60% {\n",
              "      border-color: transparent;\n",
              "      border-right-color: var(--fill-color);\n",
              "    }\n",
              "    80% {\n",
              "      border-color: transparent;\n",
              "      border-right-color: var(--fill-color);\n",
              "      border-bottom-color: var(--fill-color);\n",
              "    }\n",
              "    90% {\n",
              "      border-color: transparent;\n",
              "      border-bottom-color: var(--fill-color);\n",
              "    }\n",
              "  }\n",
              "</style>\n",
              "\n",
              "      <script>\n",
              "        async function quickchart(key) {\n",
              "          const quickchartButtonEl =\n",
              "            document.querySelector('#' + key + ' button');\n",
              "          quickchartButtonEl.disabled = true;  // To prevent multiple clicks.\n",
              "          quickchartButtonEl.classList.add('colab-df-spinner');\n",
              "          try {\n",
              "            const charts = await google.colab.kernel.invokeFunction(\n",
              "                'suggestCharts', [key], {});\n",
              "          } catch (error) {\n",
              "            console.error('Error during call to suggestCharts:', error);\n",
              "          }\n",
              "          quickchartButtonEl.classList.remove('colab-df-spinner');\n",
              "          quickchartButtonEl.classList.add('colab-df-quickchart-complete');\n",
              "        }\n",
              "        (() => {\n",
              "          let quickchartButtonEl =\n",
              "            document.querySelector('#df-592a6439-bbf7-4c6d-93e8-ee0fcba9a258 button');\n",
              "          quickchartButtonEl.style.display =\n",
              "            google.colab.kernel.accessAllowed ? 'block' : 'none';\n",
              "        })();\n",
              "      </script>\n",
              "    </div>\n",
              "\n",
              "    </div>\n",
              "  </div>\n"
            ],
            "application/vnd.google.colaboratory.intrinsic+json": {
              "type": "dataframe",
              "variable_name": "df",
              "summary": "{\n  \"name\": \"df\",\n  \"rows\": 84,\n  \"fields\": [\n    {\n      \"column\": \"Symbol\",\n      \"properties\": {\n        \"dtype\": \"string\",\n        \"num_unique_values\": 84,\n        \"samples\": [\n          \" W\",\n          \" H\",\n          \" Pr\"\n        ],\n        \"semantic_type\": \"\",\n        \"description\": \"\"\n      }\n    },\n    {\n      \"column\": \"Atomic_radius\",\n      \"properties\": {\n        \"dtype\": \"number\",\n        \"std\": 57,\n        \"min\": 31,\n        \"max\": 298,\n        \"num_unique_values\": 73,\n        \"samples\": [\n          87,\n          200,\n          243\n        ],\n        \"semantic_type\": \"\",\n        \"description\": \"\"\n      }\n    },\n    {\n      \"column\": \"Covalent_radius\",\n      \"properties\": {\n        \"dtype\": \"number\",\n        \"std\": 42,\n        \"min\": 28,\n        \"max\": 244,\n        \"num_unique_values\": 60,\n        \"samples\": [\n          31,\n          76,\n          154\n        ],\n        \"semantic_type\": \"\",\n        \"description\": \"\"\n      }\n    },\n    {\n      \"column\": \"Density\",\n      \"properties\": {\n        \"dtype\": \"number\",\n        \"std\": 5.387329377118151,\n        \"min\": 0.0708,\n        \"max\": 22.57,\n        \"num_unique_values\": 81,\n        \"samples\": [\n          5.91,\n          0.0708,\n          6.11\n        ],\n        \"semantic_type\": \"\",\n        \"description\": \"\"\n      }\n    },\n    {\n      \"column\": \"Pauling_Electronegativity\",\n      \"properties\": {\n        \"dtype\": \"number\",\n        \"std\": 0.7824043514281328,\n        \"min\": 0.0,\n        \"max\": 3.98,\n        \"num_unique_values\": 64,\n        \"samples\": [\n          1.23,\n          1.7,\n          2.2\n        ],\n        \"semantic_type\": \"\",\n        \"description\": \"\"\n      }\n    },\n    {\n      \"column\": \"Electron_affinity\",\n      \"properties\": {\n        \"dtype\": \"number\",\n        \"std\": 91.38739282038995,\n        \"min\": -120.0,\n        \"max\": 348.575,\n        \"num_unique_values\": 80,\n        \"samples\": [\n          77.65,\n          72.769,\n          65.21\n        ],\n        \"semantic_type\": \"\",\n        \"description\": \"\"\n      }\n    },\n    {\n      \"column\": \"First_Ionisation_Energy\",\n      \"properties\": {\n        \"dtype\": \"number\",\n        \"std\": 340.41630217932203,\n        \"min\": 375.5,\n        \"max\": 2361.3,\n        \"num_unique_values\": 81,\n        \"samples\": [\n          578.7,\n          1311.3,\n          650.1\n        ],\n        \"semantic_type\": \"\",\n        \"description\": \"\"\n      }\n    },\n    {\n      \"column\": \"Heat_Evaporation\",\n      \"properties\": {\n        \"dtype\": \"number\",\n        \"std\": 212.8691431295817,\n        \"min\": -102.9,\n        \"max\": 824.0,\n        \"num_unique_values\": 80,\n        \"samples\": [\n          270.3,\n          0.904,\n          460.0\n        ],\n        \"semantic_type\": \"\",\n        \"description\": \"\"\n      }\n    },\n    {\n      \"column\": \"Melting_Point\",\n      \"properties\": {\n        \"dtype\": \"number\",\n        \"std\": 955.1161171836131,\n        \"min\": 0.95,\n        \"max\": 3820.0,\n        \"num_unique_values\": 84,\n        \"samples\": [\n          3680.0,\n          14.01,\n          1204.0\n        ],\n        \"semantic_type\": \"\",\n        \"description\": \"\"\n      }\n    },\n    {\n      \"column\": \"Boiling_Point\",\n      \"properties\": {\n        \"dtype\": \"number\",\n        \"std\": 1616.8531049462308,\n        \"min\": 4.216,\n        \"max\": 5930.0,\n        \"num_unique_values\": 84,\n        \"samples\": [\n          5930.0,\n          20.28,\n          3785.0\n        ],\n        \"semantic_type\": \"\",\n        \"description\": \"\"\n      }\n    },\n    {\n      \"column\": \"Specific_Heat\",\n      \"properties\": {\n        \"dtype\": \"number\",\n        \"std\": 1.656579591395371,\n        \"min\": 0.124,\n        \"max\": 14.267,\n        \"num_unique_values\": 73,\n        \"samples\": [\n          1.025,\n          0.155,\n          0.653\n        ],\n        \"semantic_type\": \"\",\n        \"description\": \"\"\n      }\n    },\n    {\n      \"column\": \"Specific_Volume\",\n      \"properties\": {\n        \"dtype\": \"number\",\n        \"std\": 10.989506306931071,\n        \"min\": 4.6,\n        \"max\": 70.0,\n        \"num_unique_values\": 74,\n        \"samples\": [\n          4.6,\n          9.53,\n          29.9\n        ],\n        \"semantic_type\": \"\",\n        \"description\": \"\"\n      }\n    },\n    {\n      \"column\": \"Thermal_Conductivity\",\n      \"properties\": {\n        \"dtype\": \"number\",\n        \"std\": 83.48361653124141,\n        \"min\": 0.005,\n        \"max\": 429.0,\n        \"num_unique_values\": 83,\n        \"samples\": [\n          60.2,\n          0.1815,\n          93.9\n        ],\n        \"semantic_type\": \"\",\n        \"description\": \"\"\n      }\n    },\n    {\n      \"column\": \"Max_Oxidation_States\",\n      \"properties\": {\n        \"dtype\": \"number\",\n        \"std\": 2,\n        \"min\": -3,\n        \"max\": 7,\n        \"num_unique_values\": 11,\n        \"samples\": [\n          -2,\n          1,\n          6\n        ],\n        \"semantic_type\": \"\",\n        \"description\": \"\"\n      }\n    }\n  ]\n}"
            }
          },
          "metadata": {},
          "execution_count": 3
        }
      ]
    },
    {
      "cell_type": "markdown",
      "source": [
        "## Simple statistical analysis"
      ],
      "metadata": {
        "id": "O2KdcxhTsPzW"
      }
    },
    {
      "cell_type": "markdown",
      "source": [
        "Below each markdown section, write a code that will perform the analysis and visualize the results. Feel free to use CodeAssistant in Colab or ChatGPT. If there are additional questions, please provide answers in the markdown fields below the code section/output. While many Python libraries can be used for this analysis, Seaborn can be the most convenient.\n",
        "\n",
        "1. Create a histogram of the melting point distribution"
      ],
      "metadata": {
        "id": "jg5eIn9xslqu"
      }
    },
    {
      "cell_type": "code",
      "source": [],
      "metadata": {
        "id": "IcOA64HGsozO"
      },
      "execution_count": 3,
      "outputs": []
    },
    {
      "cell_type": "markdown",
      "source": [
        "2. Create the boxplot of the melting and boiling points"
      ],
      "metadata": {
        "id": "D5IR3qikspEl"
      }
    },
    {
      "cell_type": "code",
      "source": [],
      "metadata": {
        "id": "eWTz8HpltvrW"
      },
      "execution_count": 3,
      "outputs": []
    },
    {
      "cell_type": "markdown",
      "source": [
        "3. Use the Standard Scaler in the scikit-learn to normalize the values in the table and create the boxplot of all variables. Hint: drop the non-numeric column. In the markdown field, comment on what information does boxplot provide."
      ],
      "metadata": {
        "id": "OpDUs9RGtv1W"
      }
    },
    {
      "cell_type": "code",
      "source": [],
      "metadata": {
        "id": "JWWn4isPuNa-"
      },
      "execution_count": 3,
      "outputs": []
    },
    {
      "cell_type": "markdown",
      "source": [
        "Answer 3:"
      ],
      "metadata": {
        "id": "szqDO5LEuNy1"
      }
    },
    {
      "cell_type": "markdown",
      "source": [
        "4. Explore other ways to represent statistical distribution of a single parameter."
      ],
      "metadata": {
        "id": "thp1gcsmuP-e"
      }
    },
    {
      "cell_type": "code",
      "source": [],
      "metadata": {
        "id": "I36P8CeGux_G"
      },
      "execution_count": 3,
      "outputs": []
    },
    {
      "cell_type": "markdown",
      "source": [
        "## Correlation analysis"
      ],
      "metadata": {
        "id": "fk-_ovCbuyrm"
      }
    },
    {
      "cell_type": "markdown",
      "source": [
        "5. Plot the correlation between the melting point and boiling point and between covalent radius and density. In the markdown section, rationalize the observations."
      ],
      "metadata": {
        "id": "I7pjbiqFu1YA"
      }
    },
    {
      "cell_type": "code",
      "source": [],
      "metadata": {
        "id": "waktP22NvVTe"
      },
      "execution_count": 3,
      "outputs": []
    },
    {
      "cell_type": "markdown",
      "source": [
        "Answer 5:"
      ],
      "metadata": {
        "id": "HgmbSFidvVgV"
      }
    },
    {
      "cell_type": "markdown",
      "source": [
        "6. Create a heatmap of correlation coefficients between the entries in the table. Find by direct examination the groups of parameters with strongest positive and strongest negative correlations. In the markdown section, rationalize the observations."
      ],
      "metadata": {
        "id": "9f8z5t1GvW_G"
      }
    },
    {
      "cell_type": "code",
      "source": [],
      "metadata": {
        "id": "4T-xFAJ7wAnW"
      },
      "execution_count": 3,
      "outputs": []
    },
    {
      "cell_type": "markdown",
      "source": [
        "Answer 6:"
      ],
      "metadata": {
        "id": "zniQea38wAxW"
      }
    },
    {
      "cell_type": "markdown",
      "source": [
        "7. Create a pair distribution plot of Atomic_radius, Covalent_radius,Pauling_Electronegativity and First_Ionisation_Energy\n",
        "\n",
        "---\n",
        "\n"
      ],
      "metadata": {
        "id": "Whvo8WvZwCZW"
      }
    },
    {
      "cell_type": "code",
      "source": [],
      "metadata": {
        "id": "JGFGTWw1wc-e"
      },
      "execution_count": 3,
      "outputs": []
    },
    {
      "cell_type": "markdown",
      "source": [
        "## Simple Regression"
      ],
      "metadata": {
        "id": "wTp9lEqdxHYn"
      }
    },
    {
      "cell_type": "markdown",
      "source": [
        "8. Perform a linear fit between the boiling temperature and melting temperature and between specific heat and melting point. Provide the values of fit coefficients and units."
      ],
      "metadata": {
        "id": "2qlXkj-ewdf2"
      }
    },
    {
      "cell_type": "code",
      "source": [],
      "metadata": {
        "id": "Tjm08ffBq7Qh"
      },
      "execution_count": 3,
      "outputs": []
    },
    {
      "cell_type": "markdown",
      "source": [
        "# Explore the classification"
      ],
      "metadata": {
        "id": "mfFwzkGYay4k"
      }
    },
    {
      "cell_type": "markdown",
      "source": [
        "Let's create a simple data set that will allow us to explore several simple classifiers\n"
      ],
      "metadata": {
        "id": "a8NfNpeEa6NV"
      }
    },
    {
      "cell_type": "code",
      "execution_count": 4,
      "metadata": {
        "colab": {
          "base_uri": "https://localhost:8080/",
          "height": 564
        },
        "id": "Cc5JpwqvKkc0",
        "outputId": "7791745a-79fe-4ff2-96e4-a36b8d8dffec"
      },
      "outputs": [
        {
          "output_type": "display_data",
          "data": {
            "text/plain": [
              "<Figure size 600x600 with 1 Axes>"
            ],
            "image/png": "[encoded data removed]"
          },
          "metadata": {}
        }
      ],
      "source": [
        "import numpy as np\n",
        "import matplotlib.pyplot as plt\n",
        "\n",
        "# Generate features\n",
        "n = 1000\n",
        "x1 = np.random.uniform(0, 1, n)\n",
        "x2 = np.random.uniform(0, 1, n)\n",
        "\n",
        "# Calculate targets\n",
        "y = (x1 + 0.7*x2 >= 1).astype(int)\n",
        "\n",
        "# Plot the data\n",
        "plt.figure(figsize=(6, 6))\n",
        "plt.scatter(x1[y == 1], x2[y == 1], c='red', marker='o', label='1')\n",
        "plt.scatter(x1[y == 0], x2[y == 0], c='blue', marker='s', label='0')\n",
        "plt.xlabel('x1')\n",
        "plt.ylabel('x2')\n",
        "plt.legend()\n",
        "plt.title('Data Set')\n",
        "plt.show()\n",
        "\n",
        "X1 = np.column_stack((x1, x2))\n",
        "y1 = y"
      ]
    },
    {
      "cell_type": "markdown",
      "source": [
        "9. Experiment with the different classifiers for this data set:\n",
        "- Create train-test split (say 30-70)\n",
        "- Build the decision tree classifier\n",
        "- Explore the outputs if you vary the depth of the tree\n",
        "- And see how the performance changes if you change the number of points in the data set (say compare 100 and 1000)\n",
        "- Visualize the decision surface (use examples from class Colab)"
      ],
      "metadata": {
        "id": "rzv5pb2hbccE"
      }
    },
    {
      "cell_type": "code",
      "source": [],
      "metadata": {
        "id": "_my8W4Z6cR61"
      },
      "execution_count": 4,
      "outputs": []
    },
    {
      "cell_type": "markdown",
      "source": [
        "10. Do the same for the perceptron classifier"
      ],
      "metadata": {
        "id": "NmfJDrRZcfSk"
      }
    },
    {
      "cell_type": "code",
      "source": [],
      "metadata": {
        "id": "J_v40VKQcyTV"
      },
      "execution_count": 4,
      "outputs": []
    },
    {
      "cell_type": "markdown",
      "source": [
        "11. Do the same for the logistics regression classifier\n",
        "- Experiment with the regularization parameters\n",
        "- Can you plot the data for small number of points but also add class probabilities?"
      ],
      "metadata": {
        "id": "Cw3WdFeGcynV"
      }
    },
    {
      "cell_type": "markdown",
      "source": [
        "# Bring in the LLM!"
      ],
      "metadata": {
        "id": "wWGuraxkdCGr"
      }
    },
    {
      "cell_type": "markdown",
      "source": [
        "12. Here, we are going to use the ChatGPT to summarize the data about elements, and then use the information from our data set in the beginning of the notebook as features. This will be non-trivial process, because rather then working with the already provided data, we will have a chance to create our data set and discover that formats matter. Several steps:"
      ],
      "metadata": {
        "id": "Ym5dxkDUptj7"
      }
    },
    {
      "cell_type": "markdown",
      "source": [
        "- We want to get from ChatGPT table of the electronic properties of elements in the form where first column is element symbol, and the second column is metal/dielectric/semiconductor. It may take a few iterations - since ChatGPT will tend to introduce other forms of classification (e.g. metalloid). You can ask it early on to use Python form, that you can just cut and paste into Colab."
      ],
      "metadata": {
        "id": "of_wHWQMqYda"
      }
    },
    {
      "cell_type": "code",
      "source": [],
      "metadata": {
        "id": "_vtv3GuCqX9T"
      },
      "execution_count": 4,
      "outputs": []
    },
    {
      "cell_type": "markdown",
      "source": [
        "- The dataframe df in the beginning of the notebook that has feature vectors, and the dataframe you will get from ChatGPT will have different number of elements. You will have to pick the ones that are common to both. The easy way to do it is to convert corresponding columns to lists, and then do something like this: new_list = list(set(list1) & set(list2)). Then pick from both dataframes only rows that have elements present in the new_list"
      ],
      "metadata": {
        "id": "9ZdPsqL9qaYa"
      }
    },
    {
      "cell_type": "code",
      "source": [],
      "metadata": {
        "id": "Fljb9uiBqdA6"
      },
      "execution_count": 4,
      "outputs": []
    },
    {
      "cell_type": "markdown",
      "source": [
        "- One thing you will discover is that this operation will give you empty list the first time you do it. Try to identify the problem by examining the element symbols, and consider using operation like df['Symbol'] = df['Symbol'].str.strip()"
      ],
      "metadata": {
        "id": "9_nRLtEYqdXC"
      }
    },
    {
      "cell_type": "code",
      "source": [],
      "metadata": {
        "id": "VXrXuLBdqhid"
      },
      "execution_count": 4,
      "outputs": []
    },
    {
      "cell_type": "markdown",
      "source": [
        "- With these, build classifier with the allbproperties from df as features and metal/dielectric/semiconductor as target. What is the precision?"
      ],
      "metadata": {
        "id": "w4LcEooWqlTL"
      }
    },
    {
      "cell_type": "code",
      "source": [],
      "metadata": {
        "id": "NmbKVaeZqmVU"
      },
      "execution_count": 4,
      "outputs": []
    },
    {
      "cell_type": "markdown",
      "source": [
        "- Calculate confusion matrix"
      ],
      "metadata": {
        "id": "xm_haFQcqmdr"
      }
    },
    {
      "cell_type": "code",
      "source": [],
      "metadata": {
        "id": "Ndh2OESrqspb"
      },
      "execution_count": 4,
      "outputs": []
    },
    {
      "cell_type": "markdown",
      "source": [
        "- Pick 2 random features that you think are most predictive and plot decision boundary in feature space.  "
      ],
      "metadata": {
        "id": "zuYePTyfqpmT"
      }
    },
    {
      "cell_type": "code",
      "source": [],
      "metadata": {
        "id": "sKqZz4xwL6r1"
      },
      "execution_count": 4,
      "outputs": []
    }
  ]
}